{
  "cells": [
    {
      "cell_type": "markdown",
      "metadata": {
        "id": "mW3Kso1JdT53"
      },
      "source": [
        "## The main routine that we will use works when the input is a tree (directed towards the root).\n",
        "\n",
        "*min_cost_delegation(tree, voting_costs, delegating_costs, max_path_length):*\n",
        "\n",
        "*   tree: List of lists representing the tree, where tree[i] contains the indices of incoming neighbors of vertex i\n",
        "*   voting_costs: List where voting_costs[i] is the voting cost of vertex i\n",
        "*   delegating_costs: List where delegating_costs[i] is the delegating cost of vertex i (we will mostly use the unit list hereinafter)\n",
        "*   max_path_length: Maximum allowed path length from a delegating vertex to a casting voter\n",
        "* it returns a tuple showing the minimum cost and the list of indices of selected voters to cast ballots.\n"
      ]
    },
    {
      "cell_type": "code",
      "execution_count": 3,
      "metadata": {
        "id": "F4d5laNftteH"
      },
      "outputs": [],
      "source": [
        "import matplotlib.pyplot as plt\n",
        "\n",
        "def min_cost_delegation(tree, voting_costs, delegating_costs, max_path_length):\n",
        "    n = len(tree)  # Number of vertices\n",
        "\n",
        "    # Find root: vertex with no outgoing edges\n",
        "    is_child = [False] * n\n",
        "    for i in range(n):\n",
        "        for child in tree[i]:\n",
        "            is_child[child] = True\n",
        "\n",
        "    root = -1\n",
        "    for i in range(n):\n",
        "        if not is_child[i]:\n",
        "            root = i\n",
        "            break\n",
        "\n",
        "    if root == -1:\n",
        "        raise ValueError(\"No root found. The input is not a valid tree.\")\n",
        "\n",
        "    # Initialize DP table,dp[v][k] = (cost, selected vertices) for subtree rooted at v with max path length k\n",
        "    dp = [[(float('inf'), []) for _ in range(max_path_length + 1)] for _ in range(n)]\n",
        "\n",
        "    # bottom-up traversal\n",
        "    def dfs(vertex):\n",
        "        children = tree[vertex]\n",
        "\n",
        "        # Base case: leaf node\n",
        "        if not children:\n",
        "            # Leaf vertex votes\n",
        "            dp[vertex][0] = (voting_costs[vertex], [vertex])\n",
        "\n",
        "            # Leaf vertex delegates (only valid if max_path_length > 0)\n",
        "            for k in range(1, max_path_length + 1):\n",
        "                dp[vertex][k] = (delegating_costs[vertex], [])\n",
        "\n",
        "            return\n",
        "\n",
        "        # Process children first\n",
        "        for child in children:\n",
        "            dfs(child)\n",
        "\n",
        "        # Case 1: vertex votes\n",
        "        selected_vertices = [vertex]\n",
        "        total_cost = voting_costs[vertex]\n",
        "\n",
        "        for child in children:\n",
        "            # For each child, find the best option (vote or delegate with any valid path length)\n",
        "            min_child_cost = float('inf')\n",
        "            best_child_selected = []\n",
        "\n",
        "            # Child votes\n",
        "            child_cost, child_selected = dp[child][0]\n",
        "            if child_cost < min_child_cost:\n",
        "                min_child_cost = child_cost\n",
        "                best_child_selected = child_selected\n",
        "\n",
        "            # Child delegates\n",
        "            for k in range(1, max_path_length + 1):\n",
        "                child_cost, child_selected = dp[child][k]\n",
        "                if child_cost < min_child_cost:\n",
        "                    min_child_cost = child_cost\n",
        "                    best_child_selected = child_selected\n",
        "\n",
        "            total_cost += min_child_cost\n",
        "            selected_vertices.extend(best_child_selected)\n",
        "\n",
        "        dp[vertex][0] = (total_cost, selected_vertices)\n",
        "\n",
        "        # Case 2: vertex delegates (only valid if k > 0)\n",
        "        for k in range(1, max_path_length + 1):\n",
        "            selected_vertices = []\n",
        "            total_cost = delegating_costs[vertex]\n",
        "\n",
        "            for child in children:\n",
        "                # For each child, find the best option\n",
        "                # Either child votes, or delegates with path length k-1\n",
        "                min_child_cost = float('inf')\n",
        "                best_child_selected = []\n",
        "\n",
        "                # Child votes\n",
        "                child_cost, child_selected = dp[child][0]\n",
        "                if child_cost < min_child_cost:\n",
        "                    min_child_cost = child_cost\n",
        "                    best_child_selected = child_selected\n",
        "\n",
        "                # Child delegates with path length k-1 (only if k > 1)\n",
        "                if k > 1:\n",
        "                    child_cost, child_selected = dp[child][k-1]\n",
        "                    if child_cost < min_child_cost:\n",
        "                        min_child_cost = child_cost\n",
        "                        best_child_selected = child_selected\n",
        "\n",
        "                total_cost += min_child_cost\n",
        "                selected_vertices.extend(best_child_selected)\n",
        "\n",
        "            dp[vertex][k] = (total_cost, selected_vertices)\n",
        "\n",
        "    dfs(root)\n",
        "\n",
        "    # Root must vote\n",
        "    min_cost, selected_vertices = dp[root][0]\n",
        "\n",
        "\n",
        "    # print(f\"Selected vertices: {selected_vertices}\")\n",
        "    # all_vertices = set(range(len(tree)))\n",
        "    # delegating_vertices = all_vertices - set(selected_vertices)\n",
        "    # print(f\"Delegating vertices: {list(delegating_vertices)}\")\n",
        "    # total_delegating_cost = sum(delegating_costs[v] for v in delegating_vertices)\n",
        "    # print(f\"Total cost breakdown: Voting = {total_voting_cost}, Delegating = {total_delegating_cost}, Total = {total_voting_cost + total_delegating_cost}\")\n",
        "\n",
        "\n",
        "    total_voting_cost = sum(voting_costs[v] for v in selected_vertices)\n",
        "    # print(f\"Total voting cost: {total_voting_cost}\")\n",
        "\n",
        "\n",
        "    return total_voting_cost, selected_vertices"
      ]
    },
    {
      "cell_type": "markdown",
      "metadata": {
        "id": "G2naq5CIhdjJ"
      },
      "source": [
        "## Some examples on the usage of our main DP routine follow"
      ]
    },
    {
      "cell_type": "code",
      "execution_count": 4,
      "metadata": {
        "colab": {
          "base_uri": "https://localhost:8080/"
        },
        "id": "Fhl8YfwE1htM",
        "outputId": "cb6796e1-c002-4d2c-f1eb-e36ad6e54a37"
      },
      "outputs": [
        {
          "data": {
            "text/plain": [
              "(19, [0, 3, 4, 2])"
            ]
          },
          "execution_count": 4,
          "metadata": {},
          "output_type": "execute_result"
        }
      ],
      "source": [
        "    \"\"\"\n",
        "    Simple tree example:\n",
        "         0\n",
        "        / \\\n",
        "       1   2\n",
        "      / \\   \\\n",
        "     3   4   5\n",
        "    \"\"\"\n",
        "tree = [\n",
        "        [1, 2],  # 0 has incoming edges from 1 and 2\n",
        "        [3, 4],  # 1 has incoming edges from 3 and 4\n",
        "        [5],     # 2 has incoming edge from 5\n",
        "        [],      # 3 has no incoming edges\n",
        "        [],      # 4 has no incoming edges\n",
        "        []       # 5 has no incoming edges\n",
        "    ]\n",
        "\n",
        "voting_costs = [12, 6, 3, 2, 2, 12]\n",
        "delegating_costs = [1, 1, 1, 1, 1, 1]\n",
        "max_path_length = 1\n",
        "\n",
        "min_cost_delegation(tree, voting_costs, delegating_costs, max_path_length)"
      ]
    },
    {
      "cell_type": "code",
      "execution_count": 5,
      "metadata": {
        "colab": {
          "base_uri": "https://localhost:8080/"
        },
        "id": "19QTocDk1l-f",
        "outputId": "722a1d00-4d38-4a16-a2ca-d752cf5ba1ef"
      },
      "outputs": [
        {
          "data": {
            "text/plain": [
              "(13, [0, 5, 6, 2])"
            ]
          },
          "execution_count": 5,
          "metadata": {},
          "output_type": "execute_result"
        }
      ],
      "source": [
        "    \"\"\"\n",
        "    Deeper tree example:\n",
        "           0\n",
        "          / \\\n",
        "         1   2\n",
        "        /     \\\n",
        "       3       4\n",
        "      / \\     / \\\n",
        "     5   6   7   8\n",
        "    \"\"\"\n",
        "tree = [\n",
        "        [1, 2],   # 0 has incoming edges from 1 and 2\n",
        "        [3],      # 1 has incoming edge from 3\n",
        "        [4],      # 2 has incoming edge from 4\n",
        "        [5, 6],   # 3 has incoming edges from 5 and 6\n",
        "        [7, 8],   # 4 has incoming edges from 7 and 8\n",
        "        [],       # 5 has no incoming edges\n",
        "        [],       # 6 has no incoming edges\n",
        "        [],       # 7 has no incoming edges\n",
        "        []        # 8 has no incoming edges\n",
        "    ]\n",
        "\n",
        "voting_costs = [2, 6, 7, 5, 8, 2, 2, 2, 6]\n",
        "delegating_costs = [1, 1, 1, 1, 1, 1, 1, 1, 1]\n",
        "\n",
        "max_path_length = 2\n",
        "\n",
        "min_cost_delegation(tree, voting_costs, delegating_costs, max_path_length)\n",
        "\n"
      ]
    },
    {
      "cell_type": "code",
      "execution_count": 6,
      "metadata": {
        "colab": {
          "base_uri": "https://localhost:8080/"
        },
        "id": "oy-VY2ax1pAr",
        "outputId": "32040ed4-38a5-4b70-fffd-f5af7f1d5f90"
      },
      "outputs": [
        {
          "data": {
            "text/plain": [
              "(15, [0, 1, 4])"
            ]
          },
          "execution_count": 6,
          "metadata": {},
          "output_type": "execute_result"
        }
      ],
      "source": [
        "    \"\"\"\n",
        "    Linear chain example:\n",
        "    0 <- 1 <- 2 <- 3 <- 4 <- 5\n",
        "    \"\"\"\n",
        "tree = [\n",
        "        [1],      # 0 has incoming edge from 1\n",
        "        [2],      # 1 has incoming edge from 2\n",
        "        [3],      # 2 has incoming edge from 3\n",
        "        [4],      # 3 has incoming edge from 4\n",
        "        [5],      # 4 has incoming edge from 5\n",
        "        []        # 5 has no incoming edges\n",
        "    ]\n",
        "\n",
        "voting_costs = [5, 5, 5, 10, 5, 5]\n",
        "delegating_costs = [1, 1, 1, 1, 1, 1]\n",
        "max_path_length = 2\n",
        "min_cost_delegation(tree, voting_costs, delegating_costs, max_path_length)\n"
      ]
    },
    {
      "cell_type": "code",
      "execution_count": 7,
      "metadata": {
        "colab": {
          "base_uri": "https://localhost:8080/"
        },
        "id": "k-mSeOib1rMB",
        "outputId": "aca9a005-43dc-4c6a-df8e-ceac52610524"
      },
      "outputs": [
        {
          "data": {
            "text/plain": [
              "(17, [0, 1, 6, 7])"
            ]
          },
          "execution_count": 7,
          "metadata": {},
          "output_type": "execute_result"
        }
      ],
      "source": [
        "    \"\"\"\n",
        "    Star topology example:\n",
        "        0\n",
        "       /|\\\n",
        "      1 2 3\n",
        "     /|   |\\\n",
        "    4 5   6 7\n",
        "    \"\"\"\n",
        "tree = [\n",
        "        [1, 2, 3],    # 0 has incoming edges from 1, 2, 3\n",
        "        [4, 5],       # 1 has incoming edges from 4, 5\n",
        "        [],           # 2 has no incoming edges\n",
        "        [6, 7],       # 3 has incoming edges from 6, 7\n",
        "        [],           # 4 has no incoming edges\n",
        "        [],           # 5 has no incoming edges\n",
        "        [],           # 6 has no incoming edges\n",
        "        []            # 7 has no incoming edges\n",
        "    ]\n",
        "\n",
        "voting_costs = [10, 3, 5, 5, 2, 2, 2, 2]\n",
        "delegating_costs = [1, 1, 1, 1, 1, 1, 1, 1]\n",
        "max_path_length = 1\n",
        "\n",
        "min_cost_delegation(tree, voting_costs, delegating_costs, max_path_length)"
      ]
    },
    {
      "cell_type": "code",
      "execution_count": 8,
      "metadata": {
        "colab": {
          "base_uri": "https://localhost:8080/"
        },
        "id": "hdUMnvEv1tEY",
        "outputId": "4dc6b649-402b-4762-aaf5-b3a4b4391c4e"
      },
      "outputs": [
        {
          "data": {
            "text/plain": [
              "(25, [0, 3, 2, 6])"
            ]
          },
          "execution_count": 8,
          "metadata": {},
          "output_type": "execute_result"
        }
      ],
      "source": [
        "\n",
        "    \"\"\"\n",
        "    Unbalanced tree example:\n",
        "           0\n",
        "          / \\\n",
        "         1   2\n",
        "        /     \\\n",
        "       3       4\n",
        "      /         \\\n",
        "     5           6\n",
        "    \"\"\"\n",
        "tree = [\n",
        "        [1, 2],   # 0 has incoming edges from 1 and 2\n",
        "        [3],      # 1 has incoming edge from 3\n",
        "        [4],      # 2 has incoming edge from 4\n",
        "        [5],      # 3 has incoming edge from 5\n",
        "        [6],      # 4 has incoming edge from 6\n",
        "        [],       # 5 has no incoming edges\n",
        "        []        # 6 has no incoming edges\n",
        "    ]\n",
        "\n",
        "voting_costs = [12, 7, 7, 4, 9, 2, 2]\n",
        "delegating_costs = [1, 1, 1, 1, 1, 1, 1]\n",
        "\n",
        "max_path_length=1\n",
        "min_cost_delegation(tree, voting_costs, delegating_costs, max_path_length)"
      ]
    },
    {
      "cell_type": "markdown",
      "metadata": {
        "id": "VTsO0ZjXhrs2"
      },
      "source": [
        "### We now extend our code to handle any (connected) graph of out-deg<=1. Those are graphs with at most a cycle, so if we remove an edge (any such) we have a tree and our min_cost_delegation procedure can run. We can repeat this for every possible edge removal."
      ]
    },
    {
      "cell_type": "code",
      "execution_count": 9,
      "metadata": {
        "id": "DVtTMKdL-aEd"
      },
      "outputs": [],
      "source": [
        "import networkx as nx\n",
        "def adjacency_list_to_edgelist(tree):\n",
        "    \"\"\"Converts an adjacency list representation to an edge list.\"\"\"\n",
        "    edges = []\n",
        "    for child, parents in enumerate(tree):\n",
        "        for parent in parents:\n",
        "            edges.append((parent, child))\n",
        "    return edges\n",
        "\n",
        "def is_connected_after_removal(graph, edge):\n",
        "    \"\"\"Checks if the graph remains connected after removing the given edge.\"\"\"\n",
        "    G = nx.DiGraph(graph)\n",
        "    G.remove_edge(*edge)\n",
        "    return nx.is_weakly_connected(G)\n",
        "\n",
        "def get_tree_after_removal(graph, edge):\n",
        "    \"\"\"Returns the tree representation after removing the given edge.\"\"\"\n",
        "    G = nx.DiGraph(graph)\n",
        "    G.remove_edge(*edge)\n",
        "    tree = [[] for _ in range(len(graph))]\n",
        "    for u, v in G.edges:\n",
        "        tree[v].append(u)\n",
        "    return tree\n",
        "\n",
        "def min_cost_after_edge_removal(tree, voting_costs, delegating_costs, max_path_length):\n",
        "    edges = adjacency_list_to_edgelist(tree)\n",
        "    G = nx.DiGraph(edges)\n",
        "    min_cost = float('inf')\n",
        "    best_set = set()\n",
        "\n",
        "    # If already a tree, run min_cost_delegation without removing anything\n",
        "    if nx.is_tree(G):\n",
        "        min_cost, best_set = min_cost_delegation(tree, voting_costs, delegating_costs, max_path_length)\n",
        "\n",
        "    for edge in G.edges:\n",
        "        # print('remove:',edge)\n",
        "        if is_connected_after_removal(G, edge):\n",
        "            new_tree = get_tree_after_removal(G, edge)\n",
        "            cost, selected_vertices = min_cost_delegation(new_tree, voting_costs, delegating_costs, max_path_length)\n",
        "            if cost < min_cost:\n",
        "                min_cost = cost\n",
        "                best_set = selected_vertices\n",
        "\n",
        "    return min_cost, best_set"
      ]
    },
    {
      "cell_type": "code",
      "execution_count": 10,
      "metadata": {
        "colab": {
          "base_uri": "https://localhost:8080/"
        },
        "id": "v9MtiNgL-aGi",
        "outputId": "cddf075b-0993-455a-b47f-e2635d4b8358"
      },
      "outputs": [
        {
          "name": "stdout",
          "output_type": "stream",
          "text": [
            "2 [0]\n"
          ]
        }
      ],
      "source": [
        "# Example usage\n",
        "tree = [\n",
        "    [1, 2, 10],  # 0 has incoming edges from 1 and 2, 10\n",
        "    [3],      # 1 has incoming edge from 3\n",
        "    [4],      # 2 has incoming edge from 4\n",
        "    [5, 6],   # 3 has incoming edges from 5 and 6\n",
        "    [7, 8],   # 4 has incoming edges from 7 and 8\n",
        "    [], [], [], [],  # Leaves\n",
        "    [0],\n",
        "    [9]\n",
        "]\n",
        "voting_costs = [2, 2, 3, 4, 5, 6, 7, 8, 9, 2, 2]\n",
        "delegating_costs = [1, 1, 1, 1, 1, 1, 1, 1, 1, 1, 1]\n",
        "max_path_length = 6\n",
        "\n",
        "min_cost, selected_vertices = min_cost_after_edge_removal(tree, voting_costs, delegating_costs, max_path_length)\n",
        "print(min_cost, selected_vertices)"
      ]
    },
    {
      "cell_type": "markdown",
      "metadata": {
        "id": "_kmD0hFviFd4"
      },
      "source": [
        "### Finally, we extend the code to be able to handle disconnected inputs. In that case, we run the previous procedure for each component separately, the returned cost is the sum of voting costs for all components."
      ]
    },
    {
      "cell_type": "code",
      "execution_count": 11,
      "metadata": {
        "id": "54gvr76k-tOu"
      },
      "outputs": [],
      "source": [
        "def dfs(graph, node, visited, component):\n",
        "    visited[node] = True\n",
        "    component.append(node)\n",
        "    for neighbor in graph[node]:\n",
        "        if not visited[neighbor]:\n",
        "            dfs(graph, neighbor, visited, component)\n",
        "\n",
        "            \n",
        "def run_for_connected_components(tree, voting_costs, delegating_costs, max_path_length):\n",
        "    # Step 1: Check for connected components\n",
        "    visited = [False] * len(tree)\n",
        "    components = []\n",
        "    final_cost = 0\n",
        "\n",
        "    for node in range(len(tree)):\n",
        "        if not visited[node]:\n",
        "            component = []\n",
        "            dfs(tree, node, visited, component)\n",
        "            components.append(component)\n",
        "\n",
        "    # Step 2: Run min_cost_after_edge_removal for each component\n",
        "    for component in components:\n",
        "        # print()\n",
        "\n",
        "        # Step 2a: Handle components of size 1\n",
        "        if len(component) == 1:\n",
        "            node = component[0]\n",
        "            final_cost += voting_costs[node]  # Add the cost of the single node\n",
        "            selected_vertices = [node]  # The selected vertex is just the single node\n",
        "            # print(f\"Component size 1: selected_vertex (original ID): {node}, cost: {voting_costs[node]}\")\n",
        "            continue  # Skip the min_cost_after_edge_removal for this component\n",
        "\n",
        "        # Step 2b: For components with at least 2 vertices, proceed normally\n",
        "        # Create an adjacency list for the component using original node IDs\n",
        "        subgraph = [[] for _ in range(len(tree))]\n",
        "\n",
        "        # Copy the relevant edges for the current component, preserving original node IDs\n",
        "        for node in component:\n",
        "            for neighbor in tree[node]:\n",
        "                if neighbor in component:  # Only include neighbors within the component\n",
        "                    subgraph[node].append(neighbor)\n",
        "\n",
        "        # Step 2c: Call min_cost_after_edge_removal for the subgraph\n",
        "        min_cost, selected_vertices = min_cost_after_edge_removal(subgraph, voting_costs, delegating_costs, max_path_length)\n",
        "        final_cost += min_cost\n",
        "\n",
        "        # Step 2d: Map selected local component vertices to their original node IDs\n",
        "        original_selected_vertices = [component[node] for node in selected_vertices]\n",
        "\n",
        "        # Step 2e: Print the original node IDs (component nodes)\n",
        "        # print(f\"Component min_cost: {min_cost}, selected_vertices (original IDs): {original_selected_vertices}\")\n",
        "\n",
        "    # Step 3: Print the total cost\n",
        "    # print('\\nThe total voting cost to be paid is')\n",
        "    return final_cost"
      ]
    },
    {
      "cell_type": "code",
      "execution_count": 12,
      "metadata": {
        "colab": {
          "base_uri": "https://localhost:8080/"
        },
        "id": "XcaUTgW8EQ3-",
        "outputId": "4e951625-fcf8-410b-a58a-c7d0ebe497e4"
      },
      "outputs": [
        {
          "data": {
            "text/plain": [
              "5"
            ]
          },
          "execution_count": 12,
          "metadata": {},
          "output_type": "execute_result"
        }
      ],
      "source": [
        "graph = [\n",
        "    [1],  # Component 1\n",
        "    [2],  # this is a path of length 2\n",
        "    [],   # Leaf in Component 1\n",
        "    [4],  # Component 2; path of length 1\n",
        "    [],   # Leaf in Component 2\n",
        "    [6],  # Component 3; path of length 1\n",
        "    []    # Leaf in Component 3\n",
        "]\n",
        "voting_costs = [1, 2, 3, 4, 5, 6, 7]\n",
        "max_path_length = 1\n",
        "\n",
        "run_for_connected_components(graph, voting_costs, [1]*len(graph), max_path_length)"
      ]
    },
    {
      "cell_type": "code",
      "execution_count": 13,
      "metadata": {
        "id": "D5Vnfd7_5bbW"
      },
      "outputs": [
        {
          "data": {
            "text/html": [
              "<div>\n",
              "<style scoped>\n",
              "    .dataframe tbody tr th:only-of-type {\n",
              "        vertical-align: middle;\n",
              "    }\n",
              "\n",
              "    .dataframe tbody tr th {\n",
              "        vertical-align: top;\n",
              "    }\n",
              "\n",
              "    .dataframe thead th {\n",
              "        text-align: right;\n",
              "    }\n",
              "</style>\n",
              "<table border=\"1\" class=\"dataframe\">\n",
              "  <thead>\n",
              "    <tr style=\"text-align: right;\">\n",
              "      <th></th>\n",
              "      <th>Unnamed: 0.1</th>\n",
              "      <th>Unnamed: 0</th>\n",
              "      <th>ID</th>\n",
              "      <th>DelID</th>\n",
              "      <th>GuruID</th>\n",
              "      <th>Answer</th>\n",
              "      <th>AverageExpertise</th>\n",
              "      <th>Weight</th>\n",
              "      <th>CodeQuestion</th>\n",
              "      <th>CodeExclu</th>\n",
              "      <th>ExpNum</th>\n",
              "      <th>Proba</th>\n",
              "      <th>Confidence</th>\n",
              "      <th>AvergeConfidence</th>\n",
              "      <th>gender</th>\n",
              "      <th>gender_</th>\n",
              "      <th>country</th>\n",
              "      <th>ProbaDel</th>\n",
              "    </tr>\n",
              "  </thead>\n",
              "  <tbody>\n",
              "    <tr>\n",
              "      <th>0</th>\n",
              "      <td>0</td>\n",
              "      <td>2</td>\n",
              "      <td>0</td>\n",
              "      <td>NaN</td>\n",
              "      <td>0.0</td>\n",
              "      <td>1.0</td>\n",
              "      <td>0.625</td>\n",
              "      <td>1.0</td>\n",
              "      <td>K1</td>\n",
              "      <td>K</td>\n",
              "      <td>E8</td>\n",
              "      <td>NaN</td>\n",
              "      <td>NaN</td>\n",
              "      <td>NaN</td>\n",
              "      <td>female</td>\n",
              "      <td>NaN</td>\n",
              "      <td>france</td>\n",
              "      <td>0</td>\n",
              "    </tr>\n",
              "    <tr>\n",
              "      <th>1</th>\n",
              "      <td>1</td>\n",
              "      <td>3</td>\n",
              "      <td>1</td>\n",
              "      <td>NaN</td>\n",
              "      <td>1.0</td>\n",
              "      <td>1.0</td>\n",
              "      <td>0.250</td>\n",
              "      <td>2.0</td>\n",
              "      <td>K1</td>\n",
              "      <td>K</td>\n",
              "      <td>E8</td>\n",
              "      <td>NaN</td>\n",
              "      <td>NaN</td>\n",
              "      <td>NaN</td>\n",
              "      <td>female</td>\n",
              "      <td>NaN</td>\n",
              "      <td>france</td>\n",
              "      <td>0</td>\n",
              "    </tr>\n",
              "    <tr>\n",
              "      <th>2</th>\n",
              "      <td>2</td>\n",
              "      <td>4</td>\n",
              "      <td>2</td>\n",
              "      <td>1.0</td>\n",
              "      <td>1.0</td>\n",
              "      <td>1.0</td>\n",
              "      <td>0.625</td>\n",
              "      <td>0.0</td>\n",
              "      <td>K1</td>\n",
              "      <td>K</td>\n",
              "      <td>E8</td>\n",
              "      <td>NaN</td>\n",
              "      <td>NaN</td>\n",
              "      <td>NaN</td>\n",
              "      <td>female</td>\n",
              "      <td>NaN</td>\n",
              "      <td>france</td>\n",
              "      <td>1</td>\n",
              "    </tr>\n",
              "    <tr>\n",
              "      <th>3</th>\n",
              "      <td>3</td>\n",
              "      <td>5</td>\n",
              "      <td>3</td>\n",
              "      <td>NaN</td>\n",
              "      <td>3.0</td>\n",
              "      <td>1.0</td>\n",
              "      <td>0.625</td>\n",
              "      <td>1.0</td>\n",
              "      <td>K1</td>\n",
              "      <td>K</td>\n",
              "      <td>E8</td>\n",
              "      <td>NaN</td>\n",
              "      <td>NaN</td>\n",
              "      <td>NaN</td>\n",
              "      <td>female</td>\n",
              "      <td>NaN</td>\n",
              "      <td>france</td>\n",
              "      <td>0</td>\n",
              "    </tr>\n",
              "    <tr>\n",
              "      <th>4</th>\n",
              "      <td>4</td>\n",
              "      <td>6</td>\n",
              "      <td>4</td>\n",
              "      <td>NaN</td>\n",
              "      <td>4.0</td>\n",
              "      <td>1.0</td>\n",
              "      <td>0.875</td>\n",
              "      <td>1.0</td>\n",
              "      <td>K1</td>\n",
              "      <td>K</td>\n",
              "      <td>E8</td>\n",
              "      <td>NaN</td>\n",
              "      <td>NaN</td>\n",
              "      <td>NaN</td>\n",
              "      <td>male</td>\n",
              "      <td>NaN</td>\n",
              "      <td>france</td>\n",
              "      <td>0</td>\n",
              "    </tr>\n",
              "  </tbody>\n",
              "</table>\n",
              "</div>"
            ],
            "text/plain": [
              "   Unnamed: 0.1  Unnamed: 0  ID  DelID  GuruID  Answer  AverageExpertise  \\\n",
              "0             0           2   0    NaN     0.0     1.0             0.625   \n",
              "1             1           3   1    NaN     1.0     1.0             0.250   \n",
              "2             2           4   2    1.0     1.0     1.0             0.625   \n",
              "3             3           5   3    NaN     3.0     1.0             0.625   \n",
              "4             4           6   4    NaN     4.0     1.0             0.875   \n",
              "\n",
              "   Weight CodeQuestion CodeExclu ExpNum Proba  Confidence  AvergeConfidence  \\\n",
              "0     1.0           K1         K     E8   NaN         NaN               NaN   \n",
              "1     2.0           K1         K     E8   NaN         NaN               NaN   \n",
              "2     0.0           K1         K     E8   NaN         NaN               NaN   \n",
              "3     1.0           K1         K     E8   NaN         NaN               NaN   \n",
              "4     1.0           K1         K     E8   NaN         NaN               NaN   \n",
              "\n",
              "   gender gender_  country  ProbaDel  \n",
              "0  female     NaN  france          0  \n",
              "1  female     NaN   france         0  \n",
              "2  female     NaN   france         1  \n",
              "3  female     NaN   france         0  \n",
              "4    male     NaN   france         0  "
            ]
          },
          "execution_count": 13,
          "metadata": {},
          "output_type": "execute_result"
        }
      ],
      "source": [
        "import pandas as pd\n",
        "df = pd.read_csv('data.csv')\n",
        "df.head()"
      ]
    },
    {
      "cell_type": "markdown",
      "metadata": {},
      "source": [
        "- ID is the user ID\n",
        "- DelID is the ID of the user they delegate to\n",
        "- GuruID is the ID of the person that represent them (through transitive delegations)\n",
        "- CodeExclu is the task we are evaluating on\n",
        "- AverageExpertise is the expertise of that user for that task\n",
        "- Weight is the number of person a user represents"
      ]
    },
    {
      "cell_type": "code",
      "execution_count": 14,
      "metadata": {},
      "outputs": [],
      "source": [
        "df['AverageExpertise'] = df['AverageExpertise'].apply(lambda x: 1 + int(10-round(x, 1)*10)) # to trun expertise into a cost between 0 and 10. An expertise of 1 is turned to a voting cost of 0."
      ]
    },
    {
      "cell_type": "code",
      "execution_count": 60,
      "metadata": {},
      "outputs": [
        {
          "data": {
            "text/plain": [
              "0         4\n",
              "1         8\n",
              "2         4\n",
              "3         4\n",
              "4         1\n",
              "         ..\n",
              "11253     2\n",
              "11254     5\n",
              "11255    10\n",
              "11256     2\n",
              "11257     5\n",
              "Name: AverageExpertise, Length: 11258, dtype: int64"
            ]
          },
          "execution_count": 60,
          "metadata": {},
          "output_type": "execute_result"
        }
      ],
      "source": [
        "df['AverageExpertise']"
      ]
    },
    {
      "cell_type": "code",
      "execution_count": 15,
      "metadata": {
        "id": "3iuUZ8dG6GpJ"
      },
      "outputs": [],
      "source": [
        "def build_graph(code_q, exp_num): # for a given task and experiment number, builds the graph and the vector of voting cost per voter\n",
        "    essai = df.loc[(df.CodeQuestion == code_q)&(df.ExpNum == exp_num)]\n",
        "    graph = []\n",
        "    voting_cost = []\n",
        "    for i, r in essai.iterrows():\n",
        "        leaves = list(essai.loc[essai.DelID == r.ID].ID)\n",
        "        graph.append(leaves)\n",
        "        voting_cost.append(r.AverageExpertise)\n",
        "    return graph, voting_cost"
      ]
    },
    {
      "cell_type": "code",
      "execution_count": 17,
      "metadata": {
        "colab": {
          "base_uri": "https://localhost:8080/"
        },
        "id": "7GV_PZiJ6OYC",
        "outputId": "6d9f604a-dbef-42af-ecae-603d54516692"
      },
      "outputs": [
        {
          "data": {
            "text/plain": [
              "39"
            ]
          },
          "execution_count": 17,
          "metadata": {},
          "output_type": "execute_result"
        }
      ],
      "source": [
        "graph, voting_cost = build_graph('K1', 'E1') # example for experiment E1 on task K (don't worry about the 1; I should have handled that below)\n",
        "run_for_connected_components(graph, voting_cost, [1]*len(graph), 10)"
      ]
    },
    {
      "cell_type": "markdown",
      "metadata": {},
      "source": [
        "# How does the cost depend on the max path constraint?"
      ]
    },
    {
      "cell_type": "code",
      "execution_count": 28,
      "metadata": {
        "colab": {
          "base_uri": "https://localhost:8080/"
        },
        "id": "Ww4GvfRY6xFy",
        "outputId": "0895a8b2-12ce-4519-dfd9-dc5eceb44d71"
      },
      "outputs": [
        {
          "name": "stdout",
          "output_type": "stream",
          "text": [
            "With max lenght constraint of 1\n",
            "Graph on which the code does not run: K1 E11\n",
            "Graph:  [[7, 8, 9, 11, 16], [], [], [], [], [], [], [], [], [], [22], [], [], [], [], [24], [10, 15, 23], [21], [], [], [], [], [], [], [], [], []]\n",
            "Voting Cost:  [3, 3, 3, 2, 5, 3, 6, 2, 6, 3, 5, 5, 5, 2, 5, 3, 3, 1, 3, 3, 5, 3, 5, 5, 6, 2, 3]\n",
            "\n",
            "Graph on which the code does not run: PC1 E11\n",
            "Graph:  [[], [], [], [1, 7, 8, 10, 11, 16, 17, 19, 21, 22], [], [12, 25], [], [], [3, 4, 6, 14], [], [], [15], [], [], [], [], [], [], [], [], [18], [], [], [2], [], []]\n",
            "Voting Cost:  [2, 6, 5, 5, 2, 2, 3, 5, 5, 2, 5, 1, 5, 3, 2, 1, 5, 6, 2, 5, 2, 5, 7, 7, 2, 5]\n",
            "\n",
            "Graph on which the code does not run: PE91 E11\n",
            "Graph:  [[1, 2, 20, 25], [8], [], [], [], [14], [], [10, 19], [4], [], [], [], [9, 11, 23], [3], [], [], [], [], [], [], [], [], [], [], [17, 22], [], []]\n",
            "Voting Cost:  [5, 9, 3, 7, 3, 6, 1, 7, 6, 10, 6, 6, 3, 7, 3, 5, 3, 3, 6, 5, 6, 7, 7, 7, 9, 5, 6]\n",
            "\n",
            "Graph on which the code does not run: S1 E11\n",
            "Graph:  [[3, 8, 17, 18], [], [], [10], [], [], [], [], [5, 13], [15], [], [], [], [], [], [], [11, 19], [], [], [], [], [], [], [12], [], [23]]\n",
            "Voting Cost:  [5, 3, 6, 3, 7, 7, 2, 5, 5, 5, 3, 5, 6, 5, 3, 6, 2, 6, 5, 5, 3, 6, 6, 5, 7, 3]\n",
            "\n",
            "Graph on which the code does not run: K1 E13\n",
            "Graph:  [[16], [], [], [], [], [], [], [], [], [], [], [], [], [], [13, 23, 29, 34, 41, 42, 46], [], [33], [], [], [], [], [], [10], [], [], [], [], [], [], [21], [5, 28], [], [], [], [], [], [22], [], [], [], [], [], [], [], [19], [12], [], [], [], [18]]\n",
            "Voting Cost:  [6, 5, 5, 5, 6, 2, 3, 3, 6, 2, 6, 3, 6, 3, 3, 7, 3, 5, 5, 9, 5, 5, 3, 5, 6, 6, 5, 6, 7, 5, 2, 5, 6, 2, 5, 5, 5, 7, 7, 3, 3, 2, 5, 5, 3, 3, 3, 3, 2, 2]\n",
            "\n",
            "Graph on which the code does not run: KK1 E13\n",
            "Graph:  [[], [24, 41], [], [], [], [], [], [38], [], [46, 47], [], [], [15], [], [36], [], [33], [], [], [], [], [], [10, 25], [], [], [], [], [], [], [], [5], [], [2], [16], [43], [], [21, 30], [], [], [], [], [], [], [], [], [], [], [], [], []]\n",
            "Voting Cost:  [5, 5, 9, 5, 6, 6, 5, 6, 5, 5, 6, 6, 6, 9, 6, 6, 6, 6, 5, 5, 7, 7, 6, 7, 6, 7, 7, 6, 6, 5, 6, 7, 9, 6, 6, 7, 6, 7, 6, 5, 6, 7, 5, 7, 5, 5, 3, 6, 6, 7]\n",
            "\n",
            "Graph on which the code does not run: KKK1 E13\n",
            "Graph:  [[16], [], [], [], [], [], [40, 41], [], [], [], [], [], [], [], [3, 30, 34, 46], [], [33], [], [19, 29], [], [], [7], [10], [], [], [], [], [31], [], [], [28], [12], [], [], [], [22, 48], [2, 9, 21, 42], [], [], [], [17], [], [], [23], [], [], [], [45], [], []]\n",
            "Voting Cost:  [7, 6, 6, 6, 9, 2, 9, 7, 5, 5, 5, 9, 7, 3, 9, 6, 7, 7, 5, 5, 5, 7, 5, 6, 9, 7, 5, 3, 6, 6, 6, 7, 5, 9, 5, 7, 9, 5, 7, 7, 7, 3, 3, 6, 6, 6, 6, 5, 5, 7]\n",
            "\n",
            "Graph on which the code does not run: KKKK1 E13\n",
            "Graph:  [[40], [21], [], [1, 11, 39], [13, 19], [29], [41], [], [], [43], [], [3], [], [], [0, 24, 32, 44], [], [33], [], [], [34], [], [], [35, 38], [], [30], [], [], [], [], [10], [], [], [8], [], [], [48], [23], [2, 6, 31, 36, 42, 45], [], [], [7], [], [], [], [], [], [14], [], [18], []]\n",
            "Voting Cost:  [7, 5, 9, 10, 3, 5, 7, 5, 6, 2, 6, 7, 6, 7, 6, 3, 7, 9, 7, 7, 6, 7, 3, 7, 5, 6, 6, 6, 9, 5, 6, 6, 6, 2, 5, 6, 9, 5, 3, 6, 9, 6, 6, 9, 6, 5, 3, 5, 10, 9]\n",
            "\n",
            "Graph on which the code does not run: PE131 E13\n",
            "Graph:  [[33], [], [], [], [19], [1, 16, 47], [], [], [], [21], [39], [], [], [], [24, 41, 46, 49], [7], [], [], [], [], [], [], [], [], [], [], [], [], [], [10, 30, 37, 43], [], [], [], [18], [], [], [2, 12, 25], [], [], [], [], [], [], [], [], [], [], [], [], [35]]\n",
            "Voting Cost:  [5, 5, 9, 7, 1, 1, 6, 9, 3, 6, 3, 9, 5, 7, 3, 2, 2, 3, 3, 3, 6, 5, 6, 2, 9, 5, 5, 7, 3, 2, 2, 7, 3, 9, 3, 3, 3, 6, 5, 9, 5, 5, 6, 2, 5, 5, 3, 6, 5, 9]\n",
            "\n",
            "Graph on which the code does not run: PPPE131 E13\n",
            "Graph:  [[], [5, 18, 41], [4], [], [], [], [36], [21, 22], [25, 32], [23, 47], [24, 35], [], [], [], [40], [31], [0, 15, 33, 38, 42], [], [19], [], [], [], [], [1], [], [8], [28], [30], [16, 29], [3, 13, 14, 34, 43, 44, 45], [], [2, 12], [], [], [], [7], [], [], [], [], [], [11], [37], [], [], [], [], [17], [], []]\n",
            "Voting Cost:  [3, 6, 3, 7, 5, 7, 6, 9, 5, 9, 7, 7, 3, 3, 9, 9, 3, 7, 5, 5, 3, 10, 7, 7, 5, 11, 6, 7, 6, 7, 6, 5, 7, 6, 6, 9, 6, 5, 2, 9, 5, 6, 6, 6, 3, 9, 9, 7, 6, 6]\n",
            "\n",
            "Graph on which the code does not run: PE31 E3\n",
            "Graph:  [[], [], [], [19], [12], [], [], [2, 13, 28], [11], [], [6, 22], [], [], [], [], [], [], [], [], [], [27], [], [5, 30], [21, 24], [], [], [0], [], [7], [], [26], []]\n",
            "Voting Cost:  [5, 5, 5, 7, 3, 9, 3, 7, 3, 1, 5, 5, 3, 5, 1, 5, 7, 5, 7, 3, 7, 5, 5, 1, 5, 1, 7, 3, 5, 1, 3, 3]\n",
            "\n",
            "Graph on which the code does not run: SR1 E3\n",
            "Graph:  [[], [], [], [9, 25], [], [], [], [], [], [3], [], [], [], [], [], [], [], [], [], [5], [1, 15], [], [], [], [], [], [], [18], [], [], [], []]\n",
            "Voting Cost:  [1, 1, 1, 1, 4, 1, 1, 1, 1, 1, 1, 4, 1, 1, 4, 1, 1, 1, 4, 1, 1, 1, 1, 1, 4, 1, 1, 1, 1, 4, 1, 1]\n",
            "\n",
            "Graph on which the code does not run: PE31 E4\n",
            "Graph:  [[13], [], [12], [], [], [], [], [], [], [], [], [], [3, 8], []]\n",
            "Voting Cost:  [1, 3, 3, 7, 1, 1, 7, 1, 1, 7, 1, 3, 7, 1]\n",
            "\n",
            "With max lenght constraint of 2\n",
            "Graph on which the code does not run: K1 E11\n",
            "Graph:  [[7, 8, 9, 11, 16], [], [], [], [], [], [], [], [], [], [22], [], [], [], [], [24], [10, 15, 23], [21], [], [], [], [], [], [], [], [], []]\n",
            "Voting Cost:  [3, 3, 3, 2, 5, 3, 6, 2, 6, 3, 5, 5, 5, 2, 5, 3, 3, 1, 3, 3, 5, 3, 5, 5, 6, 2, 3]\n",
            "\n",
            "Graph on which the code does not run: PC1 E11\n",
            "Graph:  [[], [], [], [1, 7, 8, 10, 11, 16, 17, 19, 21, 22], [], [12, 25], [], [], [3, 4, 6, 14], [], [], [15], [], [], [], [], [], [], [], [], [18], [], [], [2], [], []]\n",
            "Voting Cost:  [2, 6, 5, 5, 2, 2, 3, 5, 5, 2, 5, 1, 5, 3, 2, 1, 5, 6, 2, 5, 2, 5, 7, 7, 2, 5]\n",
            "\n",
            "Graph on which the code does not run: KK1 E13\n",
            "Graph:  [[], [24, 41], [], [], [], [], [], [38], [], [46, 47], [], [], [15], [], [36], [], [33], [], [], [], [], [], [10, 25], [], [], [], [], [], [], [], [5], [], [2], [16], [43], [], [21, 30], [], [], [], [], [], [], [], [], [], [], [], [], []]\n",
            "Voting Cost:  [5, 5, 9, 5, 6, 6, 5, 6, 5, 5, 6, 6, 6, 9, 6, 6, 6, 6, 5, 5, 7, 7, 6, 7, 6, 7, 7, 6, 6, 5, 6, 7, 9, 6, 6, 7, 6, 7, 6, 5, 6, 7, 5, 7, 5, 5, 3, 6, 6, 7]\n",
            "\n",
            "Graph on which the code does not run: KKKK1 E13\n",
            "Graph:  [[40], [21], [], [1, 11, 39], [13, 19], [29], [41], [], [], [43], [], [3], [], [], [0, 24, 32, 44], [], [33], [], [], [34], [], [], [35, 38], [], [30], [], [], [], [], [10], [], [], [8], [], [], [48], [23], [2, 6, 31, 36, 42, 45], [], [], [7], [], [], [], [], [], [14], [], [18], []]\n",
            "Voting Cost:  [7, 5, 9, 10, 3, 5, 7, 5, 6, 2, 6, 7, 6, 7, 6, 3, 7, 9, 7, 7, 6, 7, 3, 7, 5, 6, 6, 6, 9, 5, 6, 6, 6, 2, 5, 6, 9, 5, 3, 6, 9, 6, 6, 9, 6, 5, 3, 5, 10, 9]\n",
            "\n",
            "Graph on which the code does not run: PPPE131 E13\n",
            "Graph:  [[], [5, 18, 41], [4], [], [], [], [36], [21, 22], [25, 32], [23, 47], [24, 35], [], [], [], [40], [31], [0, 15, 33, 38, 42], [], [19], [], [], [], [], [1], [], [8], [28], [30], [16, 29], [3, 13, 14, 34, 43, 44, 45], [], [2, 12], [], [], [], [7], [], [], [], [], [], [11], [37], [], [], [], [], [17], [], []]\n",
            "Voting Cost:  [3, 6, 3, 7, 5, 7, 6, 9, 5, 9, 7, 7, 3, 3, 9, 9, 3, 7, 5, 5, 3, 10, 7, 7, 5, 11, 6, 7, 6, 7, 6, 5, 7, 6, 6, 9, 6, 5, 2, 9, 5, 6, 6, 6, 3, 9, 9, 7, 6, 6]\n",
            "\n",
            "Graph on which the code does not run: PE31 E3\n",
            "Graph:  [[], [], [], [19], [12], [], [], [2, 13, 28], [11], [], [6, 22], [], [], [], [], [], [], [], [], [], [27], [], [5, 30], [21, 24], [], [], [0], [], [7], [], [26], []]\n",
            "Voting Cost:  [5, 5, 5, 7, 3, 9, 3, 7, 3, 1, 5, 5, 3, 5, 1, 5, 7, 5, 7, 3, 7, 5, 5, 1, 5, 1, 7, 3, 5, 1, 3, 3]\n",
            "\n",
            "Graph on which the code does not run: SR1 E3\n",
            "Graph:  [[], [], [], [9, 25], [], [], [], [], [], [3], [], [], [], [], [], [], [], [], [], [5], [1, 15], [], [], [], [], [], [], [18], [], [], [], []]\n",
            "Voting Cost:  [1, 1, 1, 1, 4, 1, 1, 1, 1, 1, 1, 4, 1, 1, 4, 1, 1, 1, 4, 1, 1, 1, 1, 1, 4, 1, 1, 1, 1, 4, 1, 1]\n",
            "\n",
            "Graph on which the code does not run: PE31 E4\n",
            "Graph:  [[13], [], [12], [], [], [], [], [], [], [], [], [], [3, 8], []]\n",
            "Voting Cost:  [1, 3, 3, 7, 1, 1, 7, 1, 1, 7, 1, 3, 7, 1]\n",
            "\n",
            "With max lenght constraint of 3\n",
            "Graph on which the code does not run: PC1 E11\n",
            "Graph:  [[], [], [], [1, 7, 8, 10, 11, 16, 17, 19, 21, 22], [], [12, 25], [], [], [3, 4, 6, 14], [], [], [15], [], [], [], [], [], [], [], [], [18], [], [], [2], [], []]\n",
            "Voting Cost:  [2, 6, 5, 5, 2, 2, 3, 5, 5, 2, 5, 1, 5, 3, 2, 1, 5, 6, 2, 5, 2, 5, 7, 7, 2, 5]\n",
            "\n",
            "Graph on which the code does not run: KK1 E13\n",
            "Graph:  [[], [24, 41], [], [], [], [], [], [38], [], [46, 47], [], [], [15], [], [36], [], [33], [], [], [], [], [], [10, 25], [], [], [], [], [], [], [], [5], [], [2], [16], [43], [], [21, 30], [], [], [], [], [], [], [], [], [], [], [], [], []]\n",
            "Voting Cost:  [5, 5, 9, 5, 6, 6, 5, 6, 5, 5, 6, 6, 6, 9, 6, 6, 6, 6, 5, 5, 7, 7, 6, 7, 6, 7, 7, 6, 6, 5, 6, 7, 9, 6, 6, 7, 6, 7, 6, 5, 6, 7, 5, 7, 5, 5, 3, 6, 6, 7]\n",
            "\n",
            "Graph on which the code does not run: KKKK1 E13\n",
            "Graph:  [[40], [21], [], [1, 11, 39], [13, 19], [29], [41], [], [], [43], [], [3], [], [], [0, 24, 32, 44], [], [33], [], [], [34], [], [], [35, 38], [], [30], [], [], [], [], [10], [], [], [8], [], [], [48], [23], [2, 6, 31, 36, 42, 45], [], [], [7], [], [], [], [], [], [14], [], [18], []]\n",
            "Voting Cost:  [7, 5, 9, 10, 3, 5, 7, 5, 6, 2, 6, 7, 6, 7, 6, 3, 7, 9, 7, 7, 6, 7, 3, 7, 5, 6, 6, 6, 9, 5, 6, 6, 6, 2, 5, 6, 9, 5, 3, 6, 9, 6, 6, 9, 6, 5, 3, 5, 10, 9]\n",
            "\n",
            "Graph on which the code does not run: PPPE131 E13\n",
            "Graph:  [[], [5, 18, 41], [4], [], [], [], [36], [21, 22], [25, 32], [23, 47], [24, 35], [], [], [], [40], [31], [0, 15, 33, 38, 42], [], [19], [], [], [], [], [1], [], [8], [28], [30], [16, 29], [3, 13, 14, 34, 43, 44, 45], [], [2, 12], [], [], [], [7], [], [], [], [], [], [11], [37], [], [], [], [], [17], [], []]\n",
            "Voting Cost:  [3, 6, 3, 7, 5, 7, 6, 9, 5, 9, 7, 7, 3, 3, 9, 9, 3, 7, 5, 5, 3, 10, 7, 7, 5, 11, 6, 7, 6, 7, 6, 5, 7, 6, 6, 9, 6, 5, 2, 9, 5, 6, 6, 6, 3, 9, 9, 7, 6, 6]\n",
            "\n",
            "Graph on which the code does not run: PE31 E3\n",
            "Graph:  [[], [], [], [19], [12], [], [], [2, 13, 28], [11], [], [6, 22], [], [], [], [], [], [], [], [], [], [27], [], [5, 30], [21, 24], [], [], [0], [], [7], [], [26], []]\n",
            "Voting Cost:  [5, 5, 5, 7, 3, 9, 3, 7, 3, 1, 5, 5, 3, 5, 1, 5, 7, 5, 7, 3, 7, 5, 5, 1, 5, 1, 7, 3, 5, 1, 3, 3]\n",
            "\n",
            "Graph on which the code does not run: SR1 E3\n",
            "Graph:  [[], [], [], [9, 25], [], [], [], [], [], [3], [], [], [], [], [], [], [], [], [], [5], [1, 15], [], [], [], [], [], [], [18], [], [], [], []]\n",
            "Voting Cost:  [1, 1, 1, 1, 4, 1, 1, 1, 1, 1, 1, 4, 1, 1, 4, 1, 1, 1, 4, 1, 1, 1, 1, 1, 4, 1, 1, 1, 1, 4, 1, 1]\n",
            "\n",
            "Graph on which the code does not run: PE31 E4\n",
            "Graph:  [[13], [], [12], [], [], [], [], [], [], [], [], [], [3, 8], []]\n",
            "Voting Cost:  [1, 3, 3, 7, 1, 1, 7, 1, 1, 7, 1, 3, 7, 1]\n",
            "\n",
            "With max lenght constraint of 4\n",
            "Graph on which the code does not run: PC1 E11\n",
            "Graph:  [[], [], [], [1, 7, 8, 10, 11, 16, 17, 19, 21, 22], [], [12, 25], [], [], [3, 4, 6, 14], [], [], [15], [], [], [], [], [], [], [], [], [18], [], [], [2], [], []]\n",
            "Voting Cost:  [2, 6, 5, 5, 2, 2, 3, 5, 5, 2, 5, 1, 5, 3, 2, 1, 5, 6, 2, 5, 2, 5, 7, 7, 2, 5]\n",
            "\n",
            "Graph on which the code does not run: KK1 E13\n",
            "Graph:  [[], [24, 41], [], [], [], [], [], [38], [], [46, 47], [], [], [15], [], [36], [], [33], [], [], [], [], [], [10, 25], [], [], [], [], [], [], [], [5], [], [2], [16], [43], [], [21, 30], [], [], [], [], [], [], [], [], [], [], [], [], []]\n",
            "Voting Cost:  [5, 5, 9, 5, 6, 6, 5, 6, 5, 5, 6, 6, 6, 9, 6, 6, 6, 6, 5, 5, 7, 7, 6, 7, 6, 7, 7, 6, 6, 5, 6, 7, 9, 6, 6, 7, 6, 7, 6, 5, 6, 7, 5, 7, 5, 5, 3, 6, 6, 7]\n",
            "\n",
            "Graph on which the code does not run: KKKK1 E13\n",
            "Graph:  [[40], [21], [], [1, 11, 39], [13, 19], [29], [41], [], [], [43], [], [3], [], [], [0, 24, 32, 44], [], [33], [], [], [34], [], [], [35, 38], [], [30], [], [], [], [], [10], [], [], [8], [], [], [48], [23], [2, 6, 31, 36, 42, 45], [], [], [7], [], [], [], [], [], [14], [], [18], []]\n",
            "Voting Cost:  [7, 5, 9, 10, 3, 5, 7, 5, 6, 2, 6, 7, 6, 7, 6, 3, 7, 9, 7, 7, 6, 7, 3, 7, 5, 6, 6, 6, 9, 5, 6, 6, 6, 2, 5, 6, 9, 5, 3, 6, 9, 6, 6, 9, 6, 5, 3, 5, 10, 9]\n",
            "\n",
            "Graph on which the code does not run: PPPE131 E13\n",
            "Graph:  [[], [5, 18, 41], [4], [], [], [], [36], [21, 22], [25, 32], [23, 47], [24, 35], [], [], [], [40], [31], [0, 15, 33, 38, 42], [], [19], [], [], [], [], [1], [], [8], [28], [30], [16, 29], [3, 13, 14, 34, 43, 44, 45], [], [2, 12], [], [], [], [7], [], [], [], [], [], [11], [37], [], [], [], [], [17], [], []]\n",
            "Voting Cost:  [3, 6, 3, 7, 5, 7, 6, 9, 5, 9, 7, 7, 3, 3, 9, 9, 3, 7, 5, 5, 3, 10, 7, 7, 5, 11, 6, 7, 6, 7, 6, 5, 7, 6, 6, 9, 6, 5, 2, 9, 5, 6, 6, 6, 3, 9, 9, 7, 6, 6]\n",
            "\n",
            "Graph on which the code does not run: PE31 E3\n",
            "Graph:  [[], [], [], [19], [12], [], [], [2, 13, 28], [11], [], [6, 22], [], [], [], [], [], [], [], [], [], [27], [], [5, 30], [21, 24], [], [], [0], [], [7], [], [26], []]\n",
            "Voting Cost:  [5, 5, 5, 7, 3, 9, 3, 7, 3, 1, 5, 5, 3, 5, 1, 5, 7, 5, 7, 3, 7, 5, 5, 1, 5, 1, 7, 3, 5, 1, 3, 3]\n",
            "\n",
            "Graph on which the code does not run: SR1 E3\n",
            "Graph:  [[], [], [], [9, 25], [], [], [], [], [], [3], [], [], [], [], [], [], [], [], [], [5], [1, 15], [], [], [], [], [], [], [18], [], [], [], []]\n",
            "Voting Cost:  [1, 1, 1, 1, 4, 1, 1, 1, 1, 1, 1, 4, 1, 1, 4, 1, 1, 1, 4, 1, 1, 1, 1, 1, 4, 1, 1, 1, 1, 4, 1, 1]\n",
            "\n",
            "Graph on which the code does not run: PE31 E4\n",
            "Graph:  [[13], [], [12], [], [], [], [], [], [], [], [], [], [3, 8], []]\n",
            "Voting Cost:  [1, 3, 3, 7, 1, 1, 7, 1, 1, 7, 1, 3, 7, 1]\n",
            "\n",
            "With max lenght constraint of 5\n",
            "Graph on which the code does not run: PC1 E11\n",
            "Graph:  [[], [], [], [1, 7, 8, 10, 11, 16, 17, 19, 21, 22], [], [12, 25], [], [], [3, 4, 6, 14], [], [], [15], [], [], [], [], [], [], [], [], [18], [], [], [2], [], []]\n",
            "Voting Cost:  [2, 6, 5, 5, 2, 2, 3, 5, 5, 2, 5, 1, 5, 3, 2, 1, 5, 6, 2, 5, 2, 5, 7, 7, 2, 5]\n",
            "\n",
            "Graph on which the code does not run: KK1 E13\n",
            "Graph:  [[], [24, 41], [], [], [], [], [], [38], [], [46, 47], [], [], [15], [], [36], [], [33], [], [], [], [], [], [10, 25], [], [], [], [], [], [], [], [5], [], [2], [16], [43], [], [21, 30], [], [], [], [], [], [], [], [], [], [], [], [], []]\n",
            "Voting Cost:  [5, 5, 9, 5, 6, 6, 5, 6, 5, 5, 6, 6, 6, 9, 6, 6, 6, 6, 5, 5, 7, 7, 6, 7, 6, 7, 7, 6, 6, 5, 6, 7, 9, 6, 6, 7, 6, 7, 6, 5, 6, 7, 5, 7, 5, 5, 3, 6, 6, 7]\n",
            "\n",
            "Graph on which the code does not run: KKKK1 E13\n",
            "Graph:  [[40], [21], [], [1, 11, 39], [13, 19], [29], [41], [], [], [43], [], [3], [], [], [0, 24, 32, 44], [], [33], [], [], [34], [], [], [35, 38], [], [30], [], [], [], [], [10], [], [], [8], [], [], [48], [23], [2, 6, 31, 36, 42, 45], [], [], [7], [], [], [], [], [], [14], [], [18], []]\n",
            "Voting Cost:  [7, 5, 9, 10, 3, 5, 7, 5, 6, 2, 6, 7, 6, 7, 6, 3, 7, 9, 7, 7, 6, 7, 3, 7, 5, 6, 6, 6, 9, 5, 6, 6, 6, 2, 5, 6, 9, 5, 3, 6, 9, 6, 6, 9, 6, 5, 3, 5, 10, 9]\n",
            "\n",
            "Graph on which the code does not run: PPPE131 E13\n",
            "Graph:  [[], [5, 18, 41], [4], [], [], [], [36], [21, 22], [25, 32], [23, 47], [24, 35], [], [], [], [40], [31], [0, 15, 33, 38, 42], [], [19], [], [], [], [], [1], [], [8], [28], [30], [16, 29], [3, 13, 14, 34, 43, 44, 45], [], [2, 12], [], [], [], [7], [], [], [], [], [], [11], [37], [], [], [], [], [17], [], []]\n",
            "Voting Cost:  [3, 6, 3, 7, 5, 7, 6, 9, 5, 9, 7, 7, 3, 3, 9, 9, 3, 7, 5, 5, 3, 10, 7, 7, 5, 11, 6, 7, 6, 7, 6, 5, 7, 6, 6, 9, 6, 5, 2, 9, 5, 6, 6, 6, 3, 9, 9, 7, 6, 6]\n",
            "\n",
            "Graph on which the code does not run: PE31 E3\n",
            "Graph:  [[], [], [], [19], [12], [], [], [2, 13, 28], [11], [], [6, 22], [], [], [], [], [], [], [], [], [], [27], [], [5, 30], [21, 24], [], [], [0], [], [7], [], [26], []]\n",
            "Voting Cost:  [5, 5, 5, 7, 3, 9, 3, 7, 3, 1, 5, 5, 3, 5, 1, 5, 7, 5, 7, 3, 7, 5, 5, 1, 5, 1, 7, 3, 5, 1, 3, 3]\n",
            "\n",
            "Graph on which the code does not run: SR1 E3\n",
            "Graph:  [[], [], [], [9, 25], [], [], [], [], [], [3], [], [], [], [], [], [], [], [], [], [5], [1, 15], [], [], [], [], [], [], [18], [], [], [], []]\n",
            "Voting Cost:  [1, 1, 1, 1, 4, 1, 1, 1, 1, 1, 1, 4, 1, 1, 4, 1, 1, 1, 4, 1, 1, 1, 1, 1, 4, 1, 1, 1, 1, 4, 1, 1]\n",
            "\n",
            "Graph on which the code does not run: PE31 E4\n",
            "Graph:  [[13], [], [12], [], [], [], [], [], [], [], [], [], [3, 8], []]\n",
            "Voting Cost:  [1, 3, 3, 7, 1, 1, 7, 1, 1, 7, 1, 3, 7, 1]\n",
            "\n",
            "With max lenght constraint of 6\n",
            "Graph on which the code does not run: PC1 E11\n",
            "Graph:  [[], [], [], [1, 7, 8, 10, 11, 16, 17, 19, 21, 22], [], [12, 25], [], [], [3, 4, 6, 14], [], [], [15], [], [], [], [], [], [], [], [], [18], [], [], [2], [], []]\n",
            "Voting Cost:  [2, 6, 5, 5, 2, 2, 3, 5, 5, 2, 5, 1, 5, 3, 2, 1, 5, 6, 2, 5, 2, 5, 7, 7, 2, 5]\n",
            "\n",
            "Graph on which the code does not run: KK1 E13\n",
            "Graph:  [[], [24, 41], [], [], [], [], [], [38], [], [46, 47], [], [], [15], [], [36], [], [33], [], [], [], [], [], [10, 25], [], [], [], [], [], [], [], [5], [], [2], [16], [43], [], [21, 30], [], [], [], [], [], [], [], [], [], [], [], [], []]\n",
            "Voting Cost:  [5, 5, 9, 5, 6, 6, 5, 6, 5, 5, 6, 6, 6, 9, 6, 6, 6, 6, 5, 5, 7, 7, 6, 7, 6, 7, 7, 6, 6, 5, 6, 7, 9, 6, 6, 7, 6, 7, 6, 5, 6, 7, 5, 7, 5, 5, 3, 6, 6, 7]\n",
            "\n",
            "Graph on which the code does not run: KKKK1 E13\n",
            "Graph:  [[40], [21], [], [1, 11, 39], [13, 19], [29], [41], [], [], [43], [], [3], [], [], [0, 24, 32, 44], [], [33], [], [], [34], [], [], [35, 38], [], [30], [], [], [], [], [10], [], [], [8], [], [], [48], [23], [2, 6, 31, 36, 42, 45], [], [], [7], [], [], [], [], [], [14], [], [18], []]\n",
            "Voting Cost:  [7, 5, 9, 10, 3, 5, 7, 5, 6, 2, 6, 7, 6, 7, 6, 3, 7, 9, 7, 7, 6, 7, 3, 7, 5, 6, 6, 6, 9, 5, 6, 6, 6, 2, 5, 6, 9, 5, 3, 6, 9, 6, 6, 9, 6, 5, 3, 5, 10, 9]\n",
            "\n",
            "Graph on which the code does not run: PPPE131 E13\n",
            "Graph:  [[], [5, 18, 41], [4], [], [], [], [36], [21, 22], [25, 32], [23, 47], [24, 35], [], [], [], [40], [31], [0, 15, 33, 38, 42], [], [19], [], [], [], [], [1], [], [8], [28], [30], [16, 29], [3, 13, 14, 34, 43, 44, 45], [], [2, 12], [], [], [], [7], [], [], [], [], [], [11], [37], [], [], [], [], [17], [], []]\n",
            "Voting Cost:  [3, 6, 3, 7, 5, 7, 6, 9, 5, 9, 7, 7, 3, 3, 9, 9, 3, 7, 5, 5, 3, 10, 7, 7, 5, 11, 6, 7, 6, 7, 6, 5, 7, 6, 6, 9, 6, 5, 2, 9, 5, 6, 6, 6, 3, 9, 9, 7, 6, 6]\n",
            "\n",
            "Graph on which the code does not run: PE31 E3\n",
            "Graph:  [[], [], [], [19], [12], [], [], [2, 13, 28], [11], [], [6, 22], [], [], [], [], [], [], [], [], [], [27], [], [5, 30], [21, 24], [], [], [0], [], [7], [], [26], []]\n",
            "Voting Cost:  [5, 5, 5, 7, 3, 9, 3, 7, 3, 1, 5, 5, 3, 5, 1, 5, 7, 5, 7, 3, 7, 5, 5, 1, 5, 1, 7, 3, 5, 1, 3, 3]\n",
            "\n",
            "Graph on which the code does not run: SR1 E3\n",
            "Graph:  [[], [], [], [9, 25], [], [], [], [], [], [3], [], [], [], [], [], [], [], [], [], [5], [1, 15], [], [], [], [], [], [], [18], [], [], [], []]\n",
            "Voting Cost:  [1, 1, 1, 1, 4, 1, 1, 1, 1, 1, 1, 4, 1, 1, 4, 1, 1, 1, 4, 1, 1, 1, 1, 1, 4, 1, 1, 1, 1, 4, 1, 1]\n",
            "\n",
            "Graph on which the code does not run: PE31 E4\n",
            "Graph:  [[13], [], [12], [], [], [], [], [], [], [], [], [], [3, 8], []]\n",
            "Voting Cost:  [1, 3, 3, 7, 1, 1, 7, 1, 1, 7, 1, 3, 7, 1]\n",
            "\n",
            "With max lenght constraint of 7\n",
            "Graph on which the code does not run: PC1 E11\n",
            "Graph:  [[], [], [], [1, 7, 8, 10, 11, 16, 17, 19, 21, 22], [], [12, 25], [], [], [3, 4, 6, 14], [], [], [15], [], [], [], [], [], [], [], [], [18], [], [], [2], [], []]\n",
            "Voting Cost:  [2, 6, 5, 5, 2, 2, 3, 5, 5, 2, 5, 1, 5, 3, 2, 1, 5, 6, 2, 5, 2, 5, 7, 7, 2, 5]\n",
            "\n",
            "Graph on which the code does not run: KK1 E13\n",
            "Graph:  [[], [24, 41], [], [], [], [], [], [38], [], [46, 47], [], [], [15], [], [36], [], [33], [], [], [], [], [], [10, 25], [], [], [], [], [], [], [], [5], [], [2], [16], [43], [], [21, 30], [], [], [], [], [], [], [], [], [], [], [], [], []]\n",
            "Voting Cost:  [5, 5, 9, 5, 6, 6, 5, 6, 5, 5, 6, 6, 6, 9, 6, 6, 6, 6, 5, 5, 7, 7, 6, 7, 6, 7, 7, 6, 6, 5, 6, 7, 9, 6, 6, 7, 6, 7, 6, 5, 6, 7, 5, 7, 5, 5, 3, 6, 6, 7]\n",
            "\n",
            "Graph on which the code does not run: KKKK1 E13\n",
            "Graph:  [[40], [21], [], [1, 11, 39], [13, 19], [29], [41], [], [], [43], [], [3], [], [], [0, 24, 32, 44], [], [33], [], [], [34], [], [], [35, 38], [], [30], [], [], [], [], [10], [], [], [8], [], [], [48], [23], [2, 6, 31, 36, 42, 45], [], [], [7], [], [], [], [], [], [14], [], [18], []]\n",
            "Voting Cost:  [7, 5, 9, 10, 3, 5, 7, 5, 6, 2, 6, 7, 6, 7, 6, 3, 7, 9, 7, 7, 6, 7, 3, 7, 5, 6, 6, 6, 9, 5, 6, 6, 6, 2, 5, 6, 9, 5, 3, 6, 9, 6, 6, 9, 6, 5, 3, 5, 10, 9]\n",
            "\n",
            "Graph on which the code does not run: PPPE131 E13\n",
            "Graph:  [[], [5, 18, 41], [4], [], [], [], [36], [21, 22], [25, 32], [23, 47], [24, 35], [], [], [], [40], [31], [0, 15, 33, 38, 42], [], [19], [], [], [], [], [1], [], [8], [28], [30], [16, 29], [3, 13, 14, 34, 43, 44, 45], [], [2, 12], [], [], [], [7], [], [], [], [], [], [11], [37], [], [], [], [], [17], [], []]\n",
            "Voting Cost:  [3, 6, 3, 7, 5, 7, 6, 9, 5, 9, 7, 7, 3, 3, 9, 9, 3, 7, 5, 5, 3, 10, 7, 7, 5, 11, 6, 7, 6, 7, 6, 5, 7, 6, 6, 9, 6, 5, 2, 9, 5, 6, 6, 6, 3, 9, 9, 7, 6, 6]\n",
            "\n",
            "Graph on which the code does not run: PE31 E3\n",
            "Graph:  [[], [], [], [19], [12], [], [], [2, 13, 28], [11], [], [6, 22], [], [], [], [], [], [], [], [], [], [27], [], [5, 30], [21, 24], [], [], [0], [], [7], [], [26], []]\n",
            "Voting Cost:  [5, 5, 5, 7, 3, 9, 3, 7, 3, 1, 5, 5, 3, 5, 1, 5, 7, 5, 7, 3, 7, 5, 5, 1, 5, 1, 7, 3, 5, 1, 3, 3]\n",
            "\n",
            "Graph on which the code does not run: SR1 E3\n",
            "Graph:  [[], [], [], [9, 25], [], [], [], [], [], [3], [], [], [], [], [], [], [], [], [], [5], [1, 15], [], [], [], [], [], [], [18], [], [], [], []]\n",
            "Voting Cost:  [1, 1, 1, 1, 4, 1, 1, 1, 1, 1, 1, 4, 1, 1, 4, 1, 1, 1, 4, 1, 1, 1, 1, 1, 4, 1, 1, 1, 1, 4, 1, 1]\n",
            "\n",
            "Graph on which the code does not run: PE31 E4\n",
            "Graph:  [[13], [], [12], [], [], [], [], [], [], [], [], [], [3, 8], []]\n",
            "Voting Cost:  [1, 3, 3, 7, 1, 1, 7, 1, 1, 7, 1, 3, 7, 1]\n",
            "\n",
            "With max lenght constraint of 8\n",
            "Graph on which the code does not run: PC1 E11\n",
            "Graph:  [[], [], [], [1, 7, 8, 10, 11, 16, 17, 19, 21, 22], [], [12, 25], [], [], [3, 4, 6, 14], [], [], [15], [], [], [], [], [], [], [], [], [18], [], [], [2], [], []]\n",
            "Voting Cost:  [2, 6, 5, 5, 2, 2, 3, 5, 5, 2, 5, 1, 5, 3, 2, 1, 5, 6, 2, 5, 2, 5, 7, 7, 2, 5]\n",
            "\n",
            "Graph on which the code does not run: KK1 E13\n",
            "Graph:  [[], [24, 41], [], [], [], [], [], [38], [], [46, 47], [], [], [15], [], [36], [], [33], [], [], [], [], [], [10, 25], [], [], [], [], [], [], [], [5], [], [2], [16], [43], [], [21, 30], [], [], [], [], [], [], [], [], [], [], [], [], []]\n",
            "Voting Cost:  [5, 5, 9, 5, 6, 6, 5, 6, 5, 5, 6, 6, 6, 9, 6, 6, 6, 6, 5, 5, 7, 7, 6, 7, 6, 7, 7, 6, 6, 5, 6, 7, 9, 6, 6, 7, 6, 7, 6, 5, 6, 7, 5, 7, 5, 5, 3, 6, 6, 7]\n",
            "\n",
            "Graph on which the code does not run: KKKK1 E13\n",
            "Graph:  [[40], [21], [], [1, 11, 39], [13, 19], [29], [41], [], [], [43], [], [3], [], [], [0, 24, 32, 44], [], [33], [], [], [34], [], [], [35, 38], [], [30], [], [], [], [], [10], [], [], [8], [], [], [48], [23], [2, 6, 31, 36, 42, 45], [], [], [7], [], [], [], [], [], [14], [], [18], []]\n",
            "Voting Cost:  [7, 5, 9, 10, 3, 5, 7, 5, 6, 2, 6, 7, 6, 7, 6, 3, 7, 9, 7, 7, 6, 7, 3, 7, 5, 6, 6, 6, 9, 5, 6, 6, 6, 2, 5, 6, 9, 5, 3, 6, 9, 6, 6, 9, 6, 5, 3, 5, 10, 9]\n",
            "\n",
            "Graph on which the code does not run: PPPE131 E13\n",
            "Graph:  [[], [5, 18, 41], [4], [], [], [], [36], [21, 22], [25, 32], [23, 47], [24, 35], [], [], [], [40], [31], [0, 15, 33, 38, 42], [], [19], [], [], [], [], [1], [], [8], [28], [30], [16, 29], [3, 13, 14, 34, 43, 44, 45], [], [2, 12], [], [], [], [7], [], [], [], [], [], [11], [37], [], [], [], [], [17], [], []]\n",
            "Voting Cost:  [3, 6, 3, 7, 5, 7, 6, 9, 5, 9, 7, 7, 3, 3, 9, 9, 3, 7, 5, 5, 3, 10, 7, 7, 5, 11, 6, 7, 6, 7, 6, 5, 7, 6, 6, 9, 6, 5, 2, 9, 5, 6, 6, 6, 3, 9, 9, 7, 6, 6]\n",
            "\n",
            "Graph on which the code does not run: PE31 E3\n",
            "Graph:  [[], [], [], [19], [12], [], [], [2, 13, 28], [11], [], [6, 22], [], [], [], [], [], [], [], [], [], [27], [], [5, 30], [21, 24], [], [], [0], [], [7], [], [26], []]\n",
            "Voting Cost:  [5, 5, 5, 7, 3, 9, 3, 7, 3, 1, 5, 5, 3, 5, 1, 5, 7, 5, 7, 3, 7, 5, 5, 1, 5, 1, 7, 3, 5, 1, 3, 3]\n",
            "\n",
            "Graph on which the code does not run: SR1 E3\n",
            "Graph:  [[], [], [], [9, 25], [], [], [], [], [], [3], [], [], [], [], [], [], [], [], [], [5], [1, 15], [], [], [], [], [], [], [18], [], [], [], []]\n",
            "Voting Cost:  [1, 1, 1, 1, 4, 1, 1, 1, 1, 1, 1, 4, 1, 1, 4, 1, 1, 1, 4, 1, 1, 1, 1, 1, 4, 1, 1, 1, 1, 4, 1, 1]\n",
            "\n",
            "Graph on which the code does not run: PE31 E4\n",
            "Graph:  [[13], [], [12], [], [], [], [], [], [], [], [], [], [3, 8], []]\n",
            "Voting Cost:  [1, 3, 3, 7, 1, 1, 7, 1, 1, 7, 1, 3, 7, 1]\n",
            "\n",
            "With max lenght constraint of 9\n",
            "Graph on which the code does not run: PC1 E11\n",
            "Graph:  [[], [], [], [1, 7, 8, 10, 11, 16, 17, 19, 21, 22], [], [12, 25], [], [], [3, 4, 6, 14], [], [], [15], [], [], [], [], [], [], [], [], [18], [], [], [2], [], []]\n",
            "Voting Cost:  [2, 6, 5, 5, 2, 2, 3, 5, 5, 2, 5, 1, 5, 3, 2, 1, 5, 6, 2, 5, 2, 5, 7, 7, 2, 5]\n",
            "\n",
            "Graph on which the code does not run: KK1 E13\n",
            "Graph:  [[], [24, 41], [], [], [], [], [], [38], [], [46, 47], [], [], [15], [], [36], [], [33], [], [], [], [], [], [10, 25], [], [], [], [], [], [], [], [5], [], [2], [16], [43], [], [21, 30], [], [], [], [], [], [], [], [], [], [], [], [], []]\n",
            "Voting Cost:  [5, 5, 9, 5, 6, 6, 5, 6, 5, 5, 6, 6, 6, 9, 6, 6, 6, 6, 5, 5, 7, 7, 6, 7, 6, 7, 7, 6, 6, 5, 6, 7, 9, 6, 6, 7, 6, 7, 6, 5, 6, 7, 5, 7, 5, 5, 3, 6, 6, 7]\n",
            "\n",
            "Graph on which the code does not run: KKKK1 E13\n",
            "Graph:  [[40], [21], [], [1, 11, 39], [13, 19], [29], [41], [], [], [43], [], [3], [], [], [0, 24, 32, 44], [], [33], [], [], [34], [], [], [35, 38], [], [30], [], [], [], [], [10], [], [], [8], [], [], [48], [23], [2, 6, 31, 36, 42, 45], [], [], [7], [], [], [], [], [], [14], [], [18], []]\n",
            "Voting Cost:  [7, 5, 9, 10, 3, 5, 7, 5, 6, 2, 6, 7, 6, 7, 6, 3, 7, 9, 7, 7, 6, 7, 3, 7, 5, 6, 6, 6, 9, 5, 6, 6, 6, 2, 5, 6, 9, 5, 3, 6, 9, 6, 6, 9, 6, 5, 3, 5, 10, 9]\n",
            "\n",
            "Graph on which the code does not run: PPPE131 E13\n",
            "Graph:  [[], [5, 18, 41], [4], [], [], [], [36], [21, 22], [25, 32], [23, 47], [24, 35], [], [], [], [40], [31], [0, 15, 33, 38, 42], [], [19], [], [], [], [], [1], [], [8], [28], [30], [16, 29], [3, 13, 14, 34, 43, 44, 45], [], [2, 12], [], [], [], [7], [], [], [], [], [], [11], [37], [], [], [], [], [17], [], []]\n",
            "Voting Cost:  [3, 6, 3, 7, 5, 7, 6, 9, 5, 9, 7, 7, 3, 3, 9, 9, 3, 7, 5, 5, 3, 10, 7, 7, 5, 11, 6, 7, 6, 7, 6, 5, 7, 6, 6, 9, 6, 5, 2, 9, 5, 6, 6, 6, 3, 9, 9, 7, 6, 6]\n",
            "\n",
            "Graph on which the code does not run: PE31 E3\n",
            "Graph:  [[], [], [], [19], [12], [], [], [2, 13, 28], [11], [], [6, 22], [], [], [], [], [], [], [], [], [], [27], [], [5, 30], [21, 24], [], [], [0], [], [7], [], [26], []]\n",
            "Voting Cost:  [5, 5, 5, 7, 3, 9, 3, 7, 3, 1, 5, 5, 3, 5, 1, 5, 7, 5, 7, 3, 7, 5, 5, 1, 5, 1, 7, 3, 5, 1, 3, 3]\n",
            "\n",
            "Graph on which the code does not run: SR1 E3\n",
            "Graph:  [[], [], [], [9, 25], [], [], [], [], [], [3], [], [], [], [], [], [], [], [], [], [5], [1, 15], [], [], [], [], [], [], [18], [], [], [], []]\n",
            "Voting Cost:  [1, 1, 1, 1, 4, 1, 1, 1, 1, 1, 1, 4, 1, 1, 4, 1, 1, 1, 4, 1, 1, 1, 1, 1, 4, 1, 1, 1, 1, 4, 1, 1]\n",
            "\n",
            "Graph on which the code does not run: PE31 E4\n",
            "Graph:  [[13], [], [12], [], [], [], [], [], [], [], [], [], [3, 8], []]\n",
            "Voting Cost:  [1, 3, 3, 7, 1, 1, 7, 1, 1, 7, 1, 3, 7, 1]\n",
            "\n",
            "With max lenght constraint of 10\n",
            "Graph on which the code does not run: PC1 E11\n",
            "Graph:  [[], [], [], [1, 7, 8, 10, 11, 16, 17, 19, 21, 22], [], [12, 25], [], [], [3, 4, 6, 14], [], [], [15], [], [], [], [], [], [], [], [], [18], [], [], [2], [], []]\n",
            "Voting Cost:  [2, 6, 5, 5, 2, 2, 3, 5, 5, 2, 5, 1, 5, 3, 2, 1, 5, 6, 2, 5, 2, 5, 7, 7, 2, 5]\n",
            "\n",
            "Graph on which the code does not run: KK1 E13\n",
            "Graph:  [[], [24, 41], [], [], [], [], [], [38], [], [46, 47], [], [], [15], [], [36], [], [33], [], [], [], [], [], [10, 25], [], [], [], [], [], [], [], [5], [], [2], [16], [43], [], [21, 30], [], [], [], [], [], [], [], [], [], [], [], [], []]\n",
            "Voting Cost:  [5, 5, 9, 5, 6, 6, 5, 6, 5, 5, 6, 6, 6, 9, 6, 6, 6, 6, 5, 5, 7, 7, 6, 7, 6, 7, 7, 6, 6, 5, 6, 7, 9, 6, 6, 7, 6, 7, 6, 5, 6, 7, 5, 7, 5, 5, 3, 6, 6, 7]\n",
            "\n",
            "Graph on which the code does not run: KKKK1 E13\n",
            "Graph:  [[40], [21], [], [1, 11, 39], [13, 19], [29], [41], [], [], [43], [], [3], [], [], [0, 24, 32, 44], [], [33], [], [], [34], [], [], [35, 38], [], [30], [], [], [], [], [10], [], [], [8], [], [], [48], [23], [2, 6, 31, 36, 42, 45], [], [], [7], [], [], [], [], [], [14], [], [18], []]\n",
            "Voting Cost:  [7, 5, 9, 10, 3, 5, 7, 5, 6, 2, 6, 7, 6, 7, 6, 3, 7, 9, 7, 7, 6, 7, 3, 7, 5, 6, 6, 6, 9, 5, 6, 6, 6, 2, 5, 6, 9, 5, 3, 6, 9, 6, 6, 9, 6, 5, 3, 5, 10, 9]\n",
            "\n",
            "Graph on which the code does not run: PPPE131 E13\n",
            "Graph:  [[], [5, 18, 41], [4], [], [], [], [36], [21, 22], [25, 32], [23, 47], [24, 35], [], [], [], [40], [31], [0, 15, 33, 38, 42], [], [19], [], [], [], [], [1], [], [8], [28], [30], [16, 29], [3, 13, 14, 34, 43, 44, 45], [], [2, 12], [], [], [], [7], [], [], [], [], [], [11], [37], [], [], [], [], [17], [], []]\n",
            "Voting Cost:  [3, 6, 3, 7, 5, 7, 6, 9, 5, 9, 7, 7, 3, 3, 9, 9, 3, 7, 5, 5, 3, 10, 7, 7, 5, 11, 6, 7, 6, 7, 6, 5, 7, 6, 6, 9, 6, 5, 2, 9, 5, 6, 6, 6, 3, 9, 9, 7, 6, 6]\n",
            "\n",
            "Graph on which the code does not run: PE31 E3\n",
            "Graph:  [[], [], [], [19], [12], [], [], [2, 13, 28], [11], [], [6, 22], [], [], [], [], [], [], [], [], [], [27], [], [5, 30], [21, 24], [], [], [0], [], [7], [], [26], []]\n",
            "Voting Cost:  [5, 5, 5, 7, 3, 9, 3, 7, 3, 1, 5, 5, 3, 5, 1, 5, 7, 5, 7, 3, 7, 5, 5, 1, 5, 1, 7, 3, 5, 1, 3, 3]\n",
            "\n",
            "Graph on which the code does not run: SR1 E3\n",
            "Graph:  [[], [], [], [9, 25], [], [], [], [], [], [3], [], [], [], [], [], [], [], [], [], [5], [1, 15], [], [], [], [], [], [], [18], [], [], [], []]\n",
            "Voting Cost:  [1, 1, 1, 1, 4, 1, 1, 1, 1, 1, 1, 4, 1, 1, 4, 1, 1, 1, 4, 1, 1, 1, 1, 1, 4, 1, 1, 1, 1, 4, 1, 1]\n",
            "\n",
            "Graph on which the code does not run: PE31 E4\n",
            "Graph:  [[13], [], [12], [], [], [], [], [], [], [], [], [], [3, 8], []]\n",
            "Voting Cost:  [1, 3, 3, 7, 1, 1, 7, 1, 1, 7, 1, 3, 7, 1]\n",
            "\n"
          ]
        },
        {
          "data": {
            "text/plain": [
              "(77, 707)"
            ]
          },
          "execution_count": 28,
          "metadata": {},
          "output_type": "execute_result"
        }
      ],
      "source": [
        "grouped = df.groupby(['ExpNum', 'CodeExclu']).first().CodeQuestion.reset_index()\n",
        "data_outcome = []\n",
        "count_issues = []\n",
        "for s in range(1,11):\n",
        "    print(f\"With max lenght constraint of {s}\")\n",
        "    for ind, row in grouped[['ExpNum', 'CodeQuestion']].iterrows():\n",
        "        try:\n",
        "            count_issues.append(0)\n",
        "            graph, voting_cost = build_graph(row.CodeQuestion, row.ExpNum)\n",
        "            cost = run_for_connected_components(graph, voting_cost, [1]*len(graph), s)\n",
        "            data_outcome.append([row.CodeQuestion, row.ExpNum, s, cost])\n",
        "        except:\n",
        "            print('Graph on which the code does not run:', row.CodeQuestion, row.ExpNum)\n",
        "            print('Graph: ', graph)\n",
        "            print('Voting Cost: ', voting_cost)\n",
        "            count_issues.append(1)\n",
        "            print( )\n",
        "df_output = pd.DataFrame(data_outcome, columns=['Question', 'ExpNum', 'Constraint', 'Cost'])\n",
        "sum(count_issues), len(count_issues)"
      ]
    },
    {
      "cell_type": "code",
      "execution_count": 29,
      "metadata": {},
      "outputs": [
        {
          "name": "stdout",
          "output_type": "stream",
          "text": [
            "There is a proportion of 0.11 of graphs that can't be computed.\n"
          ]
        }
      ],
      "source": [
        "print(f\"There is a proportion of {round(sum(count_issues)/len(count_issues), 2)} of graphs that can't be computed.\")"
      ]
    },
    {
      "cell_type": "code",
      "execution_count": 45,
      "metadata": {
        "id": "2oHkrjpX87wt"
      },
      "outputs": [
        {
          "data": {
            "image/png": "[encoded data removed]",
            "text/plain": [
              "<Figure size 1000x500 with 1 Axes>"
            ]
          },
          "metadata": {},
          "output_type": "display_data"
        }
      ],
      "source": [
        "df_output['Q_Exp'] = df_output['Question'].astype(str) + ' / ' + df_output['ExpNum'].astype(str) # create a column with a unique identifier per graph\n",
        "\n",
        "import seaborn as sns\n",
        "\n",
        "plt.figure(figsize=(10, 5))\n",
        "sns.scatterplot(\n",
        "    data=df_output,\n",
        "    x='Q_Exp',\n",
        "    y='Cost',\n",
        "    hue='Constraint',\n",
        "    alpha=0.5,\n",
        "    palette='tab10'\n",
        ")\n",
        "plt.xticks(rotation=90)\n",
        "plt.title(\"Cost per Graph and Constraint\")\n",
        "plt.xlabel(\"Q_Exp\")\n",
        "plt.ylabel(\"Cost\")\n",
        "plt.legend(title='Constraint', bbox_to_anchor=(1.05, 1), loc='upper left')\n",
        "plt.tight_layout()\n",
        "plt.show()"
      ]
    },
    {
      "cell_type": "markdown",
      "metadata": {},
      "source": [
        "# "
      ]
    },
    {
      "cell_type": "code",
      "execution_count": 69,
      "metadata": {},
      "outputs": [
        {
          "name": "stdout",
          "output_type": "stream",
          "text": [
            "1\n"
          ]
        }
      ],
      "source": [
        "data_outcome = []\n",
        "for s in [1]:\n",
        "    print(s)\n",
        "    for ind, row in grouped.reset_index()[['ExpNum', 'CodeQuestion']].iterrows():\n",
        "        try:\n",
        "            graph, voting_cost = build_graph(row.CodeQuestion, row.ExpNum)\n",
        "            cost = run_for_connected_components(graph, voting_cost, [1]*len(graph), s)\n",
        "            data_outcome.append([row.CodeQuestion, row.ExpNum, s, cost])\n",
        "        except:\n",
        "            continue\n",
        "df_output = pd.DataFrame(data_outcome, columns=['Question', 'ExpNum', 'Constraint', 'Cost'])"
      ]
    },
    {
      "cell_type": "code",
      "execution_count": 70,
      "metadata": {},
      "outputs": [],
      "source": [
        "max_weight = df.groupby(by=['ExpNum', 'CodeExclu']).Weight.max().reset_index()\n",
        "max_weight['CodeExclu'] = max_weight['CodeExclu'].astype(str) + '1'\n",
        "max_weight = max_weight.rename(columns={'CodeExclu': 'Question'})\n",
        "\n",
        "summary = df_output.groupby(by=['ExpNum', 'Question']).Cost.agg(['mean', 'std']).reset_index()\n",
        "df_merged = pd.merge(summary, max_weight, on=['ExpNum', 'Question'], how='left') "
      ]
    },
    {
      "cell_type": "code",
      "execution_count": 71,
      "metadata": {},
      "outputs": [
        {
          "data": {
            "image/png": "[encoded data removed]",
            "text/plain": [
              "<Figure size 1000x600 with 1 Axes>"
            ]
          },
          "metadata": {},
          "output_type": "display_data"
        }
      ],
      "source": [
        "top = df_merged.groupby('Weight')['mean'].agg(['mean', 'std']).reset_index()\n",
        "\n",
        "\n",
        "plt.figure(figsize=(10, 6))\n",
        "plt.bar(top['Weight'], top['mean'], yerr=top['std'])\n",
        "plt.xlabel('Mean Cost')\n",
        "plt.title('Mean Cost as a Function of Max Weight')\n",
        "# plt.gca().invert_yaxis()  # Highest on top\n",
        "plt.tight_layout()\n",
        "plt.show()"
      ]
    },
    {
      "cell_type": "code",
      "execution_count": null,
      "metadata": {},
      "outputs": [],
      "source": []
    }
  ],
  "metadata": {
    "colab": {
      "provenance": []
    },
    "kernelspec": {
      "display_name": "Python 3",
      "name": "python3"
    },
    "language_info": {
      "codemirror_mode": {
        "name": "ipython",
        "version": 3
      },
      "file_extension": ".py",
      "mimetype": "text/x-python",
      "name": "python",
      "nbconvert_exporter": "python",
      "pygments_lexer": "ipython3",
      "version": "3.11.5"
    }
  },
  "nbformat": 4,
  "nbformat_minor": 0
}
