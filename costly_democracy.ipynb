{
  "cells": [
    {
      "cell_type": "markdown",
      "metadata": {
        "id": "mW3Kso1JdT53"
      },
      "source": [
        "## The main routine that we will use works when the input is a tree (directed towards the root).\n",
        "\n",
        "*min_cost_delegation(tree, voting_costs, delegating_costs, max_path_length):*\n",
        "\n",
        "*   tree: List of lists representing the tree, where tree[i] contains the indices of incoming neighbors of vertex i\n",
        "*   voting_costs: List where voting_costs[i] is the voting cost of vertex i\n",
        "*   delegating_costs: List where delegating_costs[i] is the delegating cost of vertex i (we will mostly use the unit list hereinafter)\n",
        "*   max_path_length: Maximum allowed path length from a delegating vertex to a casting voter\n",
        "* it returns a tuple showing the minimum cost and the list of indices of selected voter [link text](https://)s to cast ballots.\n"
      ]
    },
    {
      "cell_type": "code",
      "execution_count": 2,
      "metadata": {
        "id": "F4d5laNftteH"
      },
      "outputs": [],
      "source": [
        "def min_cost_delegation(tree, voting_costs, delegating_costs, max_path_length):\n",
        "    n = len(tree)  # Number of vertices\n",
        "\n",
        "    # Find root: vertex with no outgoing edges\n",
        "    is_child = [False] * n\n",
        "    for i in range(n):\n",
        "        for child in tree[i]:\n",
        "            is_child[child] = True\n",
        "\n",
        "    root = -1\n",
        "    for i in range(n):\n",
        "        if not is_child[i]:\n",
        "            root = i\n",
        "            break\n",
        "\n",
        "    if root == -1:\n",
        "        raise ValueError(\"No root found. The input is not a valid tree.\")\n",
        "\n",
        "    # Initialize DP table,dp[v][k] = (cost, selected vertices) for subtree rooted at v with max path length k\n",
        "    dp = [[(float('inf'), []) for _ in range(max_path_length + 1)] for _ in range(n)]\n",
        "\n",
        "    # bottom-up traversal\n",
        "    def dfs(vertex):\n",
        "        children = tree[vertex]\n",
        "\n",
        "        # Base case: leaf node\n",
        "        if not children:\n",
        "            # Leaf vertex votes\n",
        "            dp[vertex][0] = (voting_costs[vertex], [vertex])\n",
        "\n",
        "            # Leaf vertex delegates (only valid if max_path_length > 0)\n",
        "            for k in range(1, max_path_length + 1):\n",
        "                dp[vertex][k] = (delegating_costs[vertex], [])\n",
        "\n",
        "            return\n",
        "\n",
        "        # Process children first\n",
        "        for child in children:\n",
        "            dfs(child)\n",
        "\n",
        "        # Case 1: vertex votes\n",
        "        selected_vertices = [vertex]\n",
        "        total_cost = voting_costs[vertex]\n",
        "\n",
        "        for child in children:\n",
        "            # For each child, find the best option (vote or delegate with any valid path length)\n",
        "            min_child_cost = float('inf')\n",
        "            best_child_selected = []\n",
        "\n",
        "            # Child votes\n",
        "            child_cost, child_selected = dp[child][0]\n",
        "            if child_cost < min_child_cost:\n",
        "                min_child_cost = child_cost\n",
        "                best_child_selected = child_selected\n",
        "\n",
        "            # Child delegates\n",
        "            for k in range(1, max_path_length + 1):\n",
        "                child_cost, child_selected = dp[child][k]\n",
        "                if child_cost < min_child_cost:\n",
        "                    min_child_cost = child_cost\n",
        "                    best_child_selected = child_selected\n",
        "\n",
        "            total_cost += min_child_cost\n",
        "            selected_vertices.extend(best_child_selected)\n",
        "\n",
        "        dp[vertex][0] = (total_cost, selected_vertices)\n",
        "\n",
        "        # Case 2: vertex delegates (only valid if k > 0)\n",
        "        for k in range(1, max_path_length + 1):\n",
        "            selected_vertices = []\n",
        "            total_cost = delegating_costs[vertex]\n",
        "\n",
        "            for child in children:\n",
        "                # For each child, find the best option\n",
        "                # Either child votes, or delegates with path length k-1\n",
        "                min_child_cost = float('inf')\n",
        "                best_child_selected = []\n",
        "\n",
        "                # Child votes\n",
        "                child_cost, child_selected = dp[child][0]\n",
        "                if child_cost < min_child_cost:\n",
        "                    min_child_cost = child_cost\n",
        "                    best_child_selected = child_selected\n",
        "\n",
        "                # Child delegates with path length k-1 (only if k > 1)\n",
        "                if k > 1:\n",
        "                    child_cost, child_selected = dp[child][k-1]\n",
        "                    if child_cost < min_child_cost:\n",
        "                        min_child_cost = child_cost\n",
        "                        best_child_selected = child_selected\n",
        "\n",
        "                total_cost += min_child_cost\n",
        "                selected_vertices.extend(best_child_selected)\n",
        "\n",
        "            dp[vertex][k] = (total_cost, selected_vertices)\n",
        "\n",
        "    dfs(root)\n",
        "\n",
        "    # Root must vote\n",
        "    min_cost, selected_vertices = dp[root][0]\n",
        "\n",
        "\n",
        "    print(f\"Selected vertices: {selected_vertices}\")\n",
        "    # all_vertices = set(range(len(tree)))\n",
        "    # delegating_vertices = all_vertices - set(selected_vertices)\n",
        "    # print(f\"Delegating vertices: {list(delegating_vertices)}\")\n",
        "    # total_delegating_cost = sum(delegating_costs[v] for v in delegating_vertices)\n",
        "    # print(f\"Total cost breakdown: Voting = {total_voting_cost}, Delegating = {total_delegating_cost}, Total = {total_voting_cost + total_delegating_cost}\")\n",
        "\n",
        "\n",
        "    total_voting_cost = sum(voting_costs[v] for v in selected_vertices)\n",
        "    print(f\"Total voting cost: {total_voting_cost}\")\n",
        "\n",
        "\n",
        "    return total_voting_cost, selected_vertices"
      ]
    },
    {
      "cell_type": "markdown",
      "metadata": {
        "id": "G2naq5CIhdjJ"
      },
      "source": [
        "## Some examples on the usage of our main DP routine follow"
      ]
    },
    {
      "cell_type": "code",
      "execution_count": 3,
      "metadata": {
        "colab": {
          "base_uri": "https://localhost:8080/"
        },
        "id": "Fhl8YfwE1htM",
        "outputId": "0bca486f-ec48-46df-dbcc-3b4fe653b14c"
      },
      "outputs": [
        {
          "name": "stdout",
          "output_type": "stream",
          "text": [
            "Selected vertices: [0, 3, 4, 2]\n",
            "Total voting cost: 19\n"
          ]
        },
        {
          "data": {
            "text/plain": [
              "(19, [0, 3, 4, 2])"
            ]
          },
          "execution_count": 3,
          "metadata": {},
          "output_type": "execute_result"
        }
      ],
      "source": [
        "    \"\"\"\n",
        "    Simple tree example:\n",
        "         0\n",
        "        / \\\n",
        "       1   2\n",
        "      / \\   \\\n",
        "     3   4   5\n",
        "    \"\"\"\n",
        "tree = [\n",
        "        [1, 2],  # 0 has incoming edges from 1 and 2\n",
        "        [3, 4],  # 1 has incoming edges from 3 and 4\n",
        "        [5],     # 2 has incoming edge from 5\n",
        "        [],      # 3 has no incoming edges\n",
        "        [],      # 4 has no incoming edges\n",
        "        []       # 5 has no incoming edges\n",
        "    ]\n",
        "\n",
        "voting_costs = [12, 6, 3, 2, 2, 12]\n",
        "delegating_costs = [1, 1, 1, 1, 1, 1]\n",
        "max_path_length = 1\n",
        "\n",
        "min_cost_delegation(tree, voting_costs, delegating_costs, max_path_length)"
      ]
    },
    {
      "cell_type": "code",
      "execution_count": 4,
      "metadata": {
        "colab": {
          "base_uri": "https://localhost:8080/"
        },
        "id": "19QTocDk1l-f",
        "outputId": "9109b9f2-0040-4acc-9955-08f806260778"
      },
      "outputs": [
        {
          "name": "stdout",
          "output_type": "stream",
          "text": [
            "Selected vertices: [0, 5, 6, 2]\n",
            "Total voting cost: 13\n"
          ]
        },
        {
          "data": {
            "text/plain": [
              "(13, [0, 5, 6, 2])"
            ]
          },
          "execution_count": 4,
          "metadata": {},
          "output_type": "execute_result"
        }
      ],
      "source": [
        "    \"\"\"\n",
        "    Deeper tree example:\n",
        "           0\n",
        "          / \\\n",
        "         1   2\n",
        "        /     \\\n",
        "       3       4\n",
        "      / \\     / \\\n",
        "     5   6   7   8\n",
        "    \"\"\"\n",
        "tree = [\n",
        "        [1, 2],   # 0 has incoming edges from 1 and 2\n",
        "        [3],      # 1 has incoming edge from 3\n",
        "        [4],      # 2 has incoming edge from 4\n",
        "        [5, 6],   # 3 has incoming edges from 5 and 6\n",
        "        [7, 8],   # 4 has incoming edges from 7 and 8\n",
        "        [],       # 5 has no incoming edges\n",
        "        [],       # 6 has no incoming edges\n",
        "        [],       # 7 has no incoming edges\n",
        "        []        # 8 has no incoming edges\n",
        "    ]\n",
        "\n",
        "voting_costs = [2, 6, 7, 5, 8, 2, 2, 2, 6]\n",
        "delegating_costs = [1, 1, 1, 1, 1, 1, 1, 1, 1]\n",
        "\n",
        "max_path_length = 2\n",
        "\n",
        "min_cost_delegation(tree, voting_costs, delegating_costs, max_path_length)\n",
        "\n"
      ]
    },
    {
      "cell_type": "code",
      "execution_count": 5,
      "metadata": {
        "colab": {
          "base_uri": "https://localhost:8080/"
        },
        "id": "oy-VY2ax1pAr",
        "outputId": "7ab79362-b79c-4ef7-f2b1-327f0f2b2c05"
      },
      "outputs": [
        {
          "name": "stdout",
          "output_type": "stream",
          "text": [
            "Selected vertices: [0, 1, 4]\n",
            "Total voting cost: 15\n"
          ]
        },
        {
          "data": {
            "text/plain": [
              "(15, [0, 1, 4])"
            ]
          },
          "execution_count": 5,
          "metadata": {},
          "output_type": "execute_result"
        }
      ],
      "source": [
        "    \"\"\"\n",
        "    Linear chain example:\n",
        "    0 <- 1 <- 2 <- 3 <- 4 <- 5\n",
        "    \"\"\"\n",
        "tree = [\n",
        "        [1],      # 0 has incoming edge from 1\n",
        "        [2],      # 1 has incoming edge from 2\n",
        "        [3],      # 2 has incoming edge from 3\n",
        "        [4],      # 3 has incoming edge from 4\n",
        "        [5],      # 4 has incoming edge from 5\n",
        "        []        # 5 has no incoming edges\n",
        "    ]\n",
        "\n",
        "voting_costs = [5, 5, 5, 10, 5, 5]\n",
        "delegating_costs = [1, 1, 1, 1, 1, 1]\n",
        "max_path_length = 2\n",
        "min_cost_delegation(tree, voting_costs, delegating_costs, max_path_length)\n"
      ]
    },
    {
      "cell_type": "code",
      "execution_count": 6,
      "metadata": {
        "colab": {
          "base_uri": "https://localhost:8080/"
        },
        "id": "k-mSeOib1rMB",
        "outputId": "f6bbd203-2c84-4c27-e130-7e63f57994f2"
      },
      "outputs": [
        {
          "name": "stdout",
          "output_type": "stream",
          "text": [
            "Selected vertices: [0, 1, 6, 7]\n",
            "Total voting cost: 17\n"
          ]
        },
        {
          "data": {
            "text/plain": [
              "(17, [0, 1, 6, 7])"
            ]
          },
          "execution_count": 6,
          "metadata": {},
          "output_type": "execute_result"
        }
      ],
      "source": [
        "    \"\"\"\n",
        "    Star topology example:\n",
        "        0\n",
        "       /|\\\n",
        "      1 2 3\n",
        "     /|   |\\\n",
        "    4 5   6 7\n",
        "    \"\"\"\n",
        "tree = [\n",
        "        [1, 2, 3],    # 0 has incoming edges from 1, 2, 3\n",
        "        [4, 5],       # 1 has incoming edges from 4, 5\n",
        "        [],           # 2 has no incoming edges\n",
        "        [6, 7],       # 3 has incoming edges from 6, 7\n",
        "        [],           # 4 has no incoming edges\n",
        "        [],           # 5 has no incoming edges\n",
        "        [],           # 6 has no incoming edges\n",
        "        []            # 7 has no incoming edges\n",
        "    ]\n",
        "\n",
        "voting_costs = [10, 3, 5, 5, 2, 2, 2, 2]\n",
        "delegating_costs = [1, 1, 1, 1, 1, 1, 1, 1]\n",
        "max_path_length = 1\n",
        "\n",
        "min_cost_delegation(tree, voting_costs, delegating_costs, max_path_length)"
      ]
    },
    {
      "cell_type": "code",
      "execution_count": 7,
      "metadata": {
        "colab": {
          "base_uri": "https://localhost:8080/"
        },
        "id": "hdUMnvEv1tEY",
        "outputId": "370f3236-04e7-41fb-94f2-88cb3b8ab8b2"
      },
      "outputs": [
        {
          "name": "stdout",
          "output_type": "stream",
          "text": [
            "Selected vertices: [0, 3, 2, 6]\n",
            "Total voting cost: 25\n"
          ]
        },
        {
          "data": {
            "text/plain": [
              "(25, [0, 3, 2, 6])"
            ]
          },
          "execution_count": 7,
          "metadata": {},
          "output_type": "execute_result"
        }
      ],
      "source": [
        "\n",
        "    \"\"\"\n",
        "    Unbalanced tree example:\n",
        "           0\n",
        "          / \\\n",
        "         1   2\n",
        "        /     \\\n",
        "       3       4\n",
        "      /         \\\n",
        "     5           6\n",
        "    \"\"\"\n",
        "tree = [\n",
        "        [1, 2],   # 0 has incoming edges from 1 and 2\n",
        "        [3],      # 1 has incoming edge from 3\n",
        "        [4],      # 2 has incoming edge from 4\n",
        "        [5],      # 3 has incoming edge from 5\n",
        "        [6],      # 4 has incoming edge from 6\n",
        "        [],       # 5 has no incoming edges\n",
        "        []        # 6 has no incoming edges\n",
        "    ]\n",
        "\n",
        "voting_costs = [12, 7, 7, 4, 9, 2, 2]\n",
        "delegating_costs = [1, 1, 1, 1, 1, 1, 1]\n",
        "\n",
        "max_path_length=1\n",
        "min_cost_delegation(tree, voting_costs, delegating_costs, max_path_length)"
      ]
    },
    {
      "cell_type": "markdown",
      "metadata": {
        "id": "VTsO0ZjXhrs2"
      },
      "source": [
        "### We now extend our code to handle any (connected) graph of out-deg<=1. Those are graphs with at most a cycle, so if we remove an edge (any such) we have a tree and our min_cost_delegation procedure can run. We can repeat this for every possible edge removal."
      ]
    },
    {
      "cell_type": "code",
      "execution_count": 8,
      "metadata": {
        "id": "DVtTMKdL-aEd"
      },
      "outputs": [],
      "source": [
        "import networkx as nx\n",
        "def adjacency_list_to_edgelist(tree):\n",
        "    \"\"\"Converts an adjacency list representation to an edge list.\"\"\"\n",
        "    edges = []\n",
        "    for child, parents in enumerate(tree):\n",
        "        for parent in parents:\n",
        "            edges.append((parent, child))\n",
        "    return edges\n",
        "\n",
        "def is_connected_after_removal(graph, edge):\n",
        "    \"\"\"Checks if the graph remains connected after removing the given edge.\"\"\"\n",
        "    G = nx.DiGraph(graph)\n",
        "    G.remove_edge(*edge)\n",
        "    return nx.is_weakly_connected(G)\n",
        "\n",
        "def get_tree_after_removal(graph, edge):\n",
        "    \"\"\"Returns the tree representation after removing the given edge.\"\"\"\n",
        "    G = nx.DiGraph(graph)\n",
        "    G.remove_edge(*edge)\n",
        "    tree = [[] for _ in range(len(graph))]\n",
        "    for u, v in G.edges:\n",
        "        tree[v].append(u)\n",
        "    return tree\n",
        "\n",
        "def min_cost_after_edge_removal(tree, voting_costs, delegating_costs, max_path_length):\n",
        "    edges = adjacency_list_to_edgelist(tree)\n",
        "    G = nx.DiGraph(edges)\n",
        "    min_cost = float('inf')\n",
        "    best_set = set()\n",
        "\n",
        "    # If already a tree, run min_cost_delegation without removing anything\n",
        "    if nx.is_tree(G):\n",
        "        min_cost, best_set = min_cost_delegation(tree, voting_costs, delegating_costs, max_path_length)\n",
        "\n",
        "    for edge in G.edges:\n",
        "        print('remove:',edge)\n",
        "        if is_connected_after_removal(G, edge):\n",
        "            new_tree = get_tree_after_removal(G, edge)\n",
        "            cost, selected_vertices = min_cost_delegation(new_tree, voting_costs, delegating_costs, max_path_length)\n",
        "            if cost < min_cost:\n",
        "                min_cost = cost\n",
        "                best_set = selected_vertices\n",
        "\n",
        "    return min_cost, best_set"
      ]
    },
    {
      "cell_type": "code",
      "execution_count": 9,
      "metadata": {
        "colab": {
          "base_uri": "https://localhost:8080/"
        },
        "id": "v9MtiNgL-aGi",
        "outputId": "db41e9ba-3a46-428f-fa60-f993dbf43ffd"
      },
      "outputs": [
        {
          "name": "stdout",
          "output_type": "stream",
          "text": [
            "remove: (1, 0)\n",
            "remove: (0, 9)\n",
            "Selected vertices: [0]\n",
            "Total voting cost: 2\n",
            "remove: (2, 0)\n",
            "remove: (10, 0)\n",
            "Selected vertices: [10]\n",
            "Total voting cost: 2\n",
            "remove: (3, 1)\n",
            "remove: (4, 2)\n",
            "remove: (5, 3)\n",
            "remove: (6, 3)\n",
            "remove: (7, 4)\n",
            "remove: (8, 4)\n",
            "remove: (9, 10)\n",
            "Selected vertices: [9]\n",
            "Total voting cost: 2\n",
            "2 [0]\n"
          ]
        }
      ],
      "source": [
        "# Example usage\n",
        "tree = [\n",
        "    [1, 2, 10],  # 0 has incoming edges from 1 and 2, 10\n",
        "    [3],      # 1 has incoming edge from 3\n",
        "    [4],      # 2 has incoming edge from 4\n",
        "    [5, 6],   # 3 has incoming edges from 5 and 6\n",
        "    [7, 8],   # 4 has incoming edges from 7 and 8\n",
        "    [], [], [], [],  # Leaves\n",
        "    [0],\n",
        "    [9]\n",
        "]\n",
        "voting_costs = [2, 2, 3, 4, 5, 6, 7, 8, 9, 2, 2]\n",
        "delegating_costs = [1, 1, 1, 1, 1, 1, 1, 1, 1, 1, 1]\n",
        "max_path_length = 6\n",
        "\n",
        "min_cost, selected_vertices = min_cost_after_edge_removal(tree, voting_costs, delegating_costs, max_path_length)\n",
        "print(min_cost, selected_vertices)"
      ]
    },
    {
      "cell_type": "markdown",
      "metadata": {
        "id": "_kmD0hFviFd4"
      },
      "source": [
        "### Finally, we extend the code to be able to handle disconnected inputs. In that case, we run the previous procedure for each component separately, the returned cost is the sum of voting costs for all components."
      ]
    },
    {
      "cell_type": "code",
      "execution_count": 10,
      "metadata": {
        "id": "54gvr76k-tOu"
      },
      "outputs": [],
      "source": [
        "def dfs(graph, node, visited, component):\n",
        "    visited[node] = True\n",
        "    component.append(node)\n",
        "    for neighbor in graph[node]:\n",
        "        if not visited[neighbor]:\n",
        "            dfs(graph, neighbor, visited, component)\n",
        "\n",
        "def run_for_connected_components(tree, voting_costs, delegating_costs, max_path_length):\n",
        "    # Step 1: Check for connected components\n",
        "    visited = [False] * len(tree)\n",
        "    components = []\n",
        "    final_cost=0\n",
        "    for node in range(len(tree)):\n",
        "        if not visited[node]:\n",
        "            component = []\n",
        "            dfs(tree, node, visited, component)\n",
        "            components.append(component)\n",
        "\n",
        "    # Step 2: Run min_cost_after_edge_removal for each component\n",
        "    for component in components:\n",
        "        print()\n",
        "        # Step 2a: Create an adjacency list for the component using original node IDs\n",
        "        subgraph = [[] for _ in range(len(tree))]\n",
        "\n",
        "        # Copy the relevant edges for the current component, preserving original node IDs\n",
        "        for node in component:\n",
        "            for neighbor in tree[node]:\n",
        "                if neighbor in component:  # Only include neighbors within the component\n",
        "                    subgraph[node].append(neighbor)\n",
        "\n",
        "        # Step 2b: Call min_cost_after_edge_removal for the subgraph\n",
        "        min_cost, selected_vertices = min_cost_after_edge_removal(subgraph, voting_costs, delegating_costs, max_path_length)\n",
        "        final_cost+=min_cost\n",
        "        # Step 2c: Map selected local component vertices to their original node IDs\n",
        "        original_selected_vertices = [component[node] for node in selected_vertices]\n",
        "\n",
        "        # Step 2d: Print the original node IDs (component nodes)\n",
        "        print(f\"Component min_cost: {min_cost}, selected_vertices (original IDs): {original_selected_vertices}\")\n",
        "    print('\\nthe total voting cost to be paid is')\n",
        "    return final_cost\n"
      ]
    },
    {
      "cell_type": "code",
      "execution_count": 11,
      "metadata": {
        "colab": {
          "base_uri": "https://localhost:8080/"
        },
        "id": "XcaUTgW8EQ3-",
        "outputId": "4916b32f-eb34-4319-f8ea-b9ca068863c3"
      },
      "outputs": [
        {
          "name": "stdout",
          "output_type": "stream",
          "text": [
            "\n",
            "Selected vertices: [0, 1]\n",
            "Total voting cost: 3\n",
            "remove: (1, 0)\n",
            "remove: (2, 1)\n",
            "Component min_cost: 3, selected_vertices (original IDs): [0, 1]\n",
            "\n",
            "Selected vertices: [0]\n",
            "Total voting cost: 1\n",
            "remove: (4, 3)\n",
            "Component min_cost: 1, selected_vertices (original IDs): [3]\n",
            "\n",
            "Selected vertices: [0]\n",
            "Total voting cost: 1\n",
            "remove: (6, 5)\n",
            "Component min_cost: 1, selected_vertices (original IDs): [5]\n",
            "\n",
            "the total voting cost to be paid is\n"
          ]
        },
        {
          "data": {
            "text/plain": [
              "5"
            ]
          },
          "execution_count": 11,
          "metadata": {},
          "output_type": "execute_result"
        }
      ],
      "source": [
        "graph = [\n",
        "    [1],  # Component 1\n",
        "    [2],  # this is a path of length 2\n",
        "    [],   # Leaf in Component 1\n",
        "    [4],  # Component 2; path of length 1\n",
        "    [],   # Leaf in Component 2\n",
        "    [6],  # Component 3; path of length 1\n",
        "    []    # Leaf in Component 3\n",
        "]\n",
        "voting_costs = [1, 2, 3, 4, 5, 6, 7]\n",
        "max_path_length = 1\n",
        "\n",
        "run_for_connected_components(graph, voting_costs, [1]*len(graph), max_path_length)"
      ]
    },
    {
      "cell_type": "code",
      "execution_count": null,
      "metadata": {},
      "outputs": [],
      "source": []
    },
    {
      "cell_type": "code",
      "execution_count": null,
      "metadata": {},
      "outputs": [],
      "source": []
    },
    {
      "cell_type": "code",
      "execution_count": null,
      "metadata": {},
      "outputs": [],
      "source": []
    },
    {
      "cell_type": "code",
      "execution_count": null,
      "metadata": {},
      "outputs": [],
      "source": []
    }
  ],
  "metadata": {
    "colab": {
      "provenance": []
    },
    "kernelspec": {
      "display_name": "Python 3",
      "name": "python3"
    },
    "language_info": {
      "codemirror_mode": {
        "name": "ipython",
        "version": 3
      },
      "file_extension": ".py",
      "mimetype": "text/x-python",
      "name": "python",
      "nbconvert_exporter": "python",
      "pygments_lexer": "ipython3",
      "version": "3.11.5"
    }
  },
  "nbformat": 4,
  "nbformat_minor": 0
}
